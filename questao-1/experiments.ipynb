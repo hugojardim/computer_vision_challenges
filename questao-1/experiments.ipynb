{
 "cells": [
  {
   "cell_type": "code",
   "execution_count": 1,
   "metadata": {},
   "outputs": [],
   "source": [
    "import trimesh\n",
    "import numpy as np\n",
    "import open3d as o3d\n",
    "import copy\n",
    "import torch\n",
    "import os\n",
    "import glob\n",
    "import ot\n",
    "import random"
   ]
  },
  {
   "cell_type": "code",
   "execution_count": 2,
   "metadata": {},
   "outputs": [],
   "source": [
    "seed = 0\n",
    "\n",
    "# Python\n",
    "random.seed(seed)\n",
    "\n",
    "# NumPy\n",
    "np.random.seed(seed)\n",
    "\n",
    "# PyTorch\n",
    "torch.manual_seed(seed)\n",
    "if torch.cuda.is_available():\n",
    "    torch.cuda.manual_seed(seed)\n",
    "    torch.cuda.manual_seed_all(seed)\n",
    "    torch.backends.cudnn.deterministic = True\n",
    "    torch.backends.cudnn.benchmark = False"
   ]
  },
  {
   "cell_type": "code",
   "execution_count": 3,
   "metadata": {},
   "outputs": [
    {
     "name": "stdout",
     "output_type": "stream",
     "text": [
      "Total de nuvens de pontos carregadas: 30\n"
     ]
    }
   ],
   "source": [
    "kitti_root = \"KITTI-Sequence\"\n",
    "\n",
    "folders = sorted(os.listdir(kitti_root))\n",
    "\n",
    "point_clouds = []\n",
    "\n",
    "for folder in folders:\n",
    "    folder_path = os.path.join(kitti_root, folder)\n",
    "    \n",
    "    if os.path.isdir(folder_path):    \n",
    "        points_file = os.path.join(folder_path, f\"{folder}_points.obj\")\n",
    "        \n",
    "        if os.path.exists(points_file):\n",
    "            points = np.array(trimesh.load(points_file).vertices)\n",
    "            point_clouds.append(points)\n",
    "        \n",
    "\n",
    "print(f\"Total de nuvens de pontos carregadas: {len(point_clouds)}\")\n",
    "\n",
    "ground_truth = np.load('ground_truth.npy')"
   ]
  },
  {
   "cell_type": "code",
   "execution_count": 4,
   "metadata": {},
   "outputs": [
    {
     "name": "stdout",
     "output_type": "stream",
     "text": [
      "Forma da nuvem de pontos: (62553, 3)\n",
      "Primeiros 5 pontos:\n",
      "[[-9.110238 18.638599  0.909355]\n",
      " [-9.151207 18.5732    0.908344]\n",
      " [-9.206173 18.536804  0.908331]\n",
      " [-9.278134 18.536415  0.909315]\n",
      " [-9.080147 17.786371  0.883326]]\n",
      "Ultimos 5 pontos:\n",
      "[[ 1.455129  3.812988 -1.764532]\n",
      " [ 1.445153  3.822563 -1.767544]\n",
      " [ 1.438176  3.840138 -1.773556]\n",
      " [ 1.419202  3.825716 -1.76457 ]\n",
      " [ 1.507196  4.092375 -1.895561]]\n",
      "Forma da nuvem de pontos: (62340, 3)\n",
      "Primeiros 5 pontos:\n",
      "[[-9.056182 17.949978  0.888338]\n",
      " [-9.106149 17.908581  0.887326]\n",
      " [-9.184107 17.92219   0.889309]\n",
      " [-9.03208  17.089552  0.862305]\n",
      " [-9.042068 17.043352  0.8603  ]]\n",
      "Ultimos 5 pontos:\n",
      "[[ 1.454139  3.826792 -1.770537]\n",
      " [ 1.448161  3.846375 -1.778548]\n",
      " [ 1.426188  3.824943 -1.765563]\n",
      " [ 1.42221   3.849532 -1.775574]\n",
      " [ 1.414232  3.863128 -1.780585]]\n",
      "Forma da nuvem de pontos: (62138, 3)\n",
      "Primeiros 5 pontos:\n",
      "[[-8.969279 17.366747  0.869398]\n",
      " [-8.996253 17.284346  0.867389]\n",
      " [-9.042223 17.239948  0.866377]\n",
      " [-9.102187 17.221554  0.867364]\n",
      " [-8.978147 16.417719  0.841355]]\n",
      "Ultimos 5 pontos:\n",
      "[[ 1.460225  3.825994 -1.771585]\n",
      " [ 1.449248  3.832574 -1.772597]\n",
      " [ 1.444268  3.853178 -1.780607]\n",
      " [ 1.433282  3.843945 -1.774615]\n",
      " [ 1.420305  3.844534 -1.773627]]\n"
     ]
    }
   ],
   "source": [
    "for cloud in point_clouds[:3]:\n",
    "    print(f\"Forma da nuvem de pontos: {cloud.shape}\")\n",
    "    print(f\"Primeiros 5 pontos:\\n{cloud[:5]}\")\n",
    "    print(f\"Ultimos 5 pontos:\\n{cloud[-5:]}\")"
   ]
  },
  {
   "cell_type": "code",
   "execution_count": 5,
   "metadata": {},
   "outputs": [
    {
     "name": "stdout",
     "output_type": "stream",
     "text": [
      "[[[ 1.000000e+00  9.043680e-12  2.326809e-11  5.551115e-17]\n",
      "  [ 9.043683e-12  1.000000e+00  2.392370e-10  3.330669e-16]\n",
      "  [ 2.326810e-11  2.392370e-10  9.999999e-01 -4.440892e-16]\n",
      "  [ 0.000000e+00  0.000000e+00  0.000000e+00  1.000000e+00]]\n",
      "\n",
      " [[ 9.999978e-01  5.272628e-04 -2.066935e-03 -4.690294e-02]\n",
      "  [-5.296506e-04  9.999992e-01 -1.154865e-03 -2.839928e-02]\n",
      "  [ 2.066324e-03  1.155958e-03  9.999971e-01  8.586941e-01]\n",
      "  [ 0.000000e+00  0.000000e+00  0.000000e+00  1.000000e+00]]\n",
      "\n",
      " [[ 9.999910e-01  1.048972e-03 -4.131348e-03 -9.374345e-02]\n",
      "  [-1.058514e-03  9.999968e-01 -2.308104e-03 -5.676064e-02]\n",
      "  [ 4.128913e-03  2.312456e-03  9.999887e-01  1.716275e+00]\n",
      "  [ 0.000000e+00  0.000000e+00  0.000000e+00  1.000000e+00]]]\n"
     ]
    }
   ],
   "source": [
    "print(ground_truth[:3])"
   ]
  },
  {
   "cell_type": "code",
   "execution_count": 6,
   "metadata": {},
   "outputs": [],
   "source": [
    "def find_nearest_neighbors_knn(source, target_points):\n",
    "    point_cloud_tree = o3d.geometry.KDTreeFlann(source)\n",
    "    source_points = np.asarray(source.points)\n",
    "    \n",
    "    source_corr = np.zeros_like(target_points)\n",
    "    distances = np.zeros(len(target_points))\n",
    "    \n",
    "    for i, point in enumerate(target_points):\n",
    "        _, idx, dist = point_cloud_tree.search_knn_vector_3d(point, 1)\n",
    "        source_corr[i] = source_points[idx[0]]\n",
    "        distances[i] = dist[0]\n",
    "        \n",
    "    return source_corr, distances"
   ]
  },
  {
   "cell_type": "code",
   "execution_count": 7,
   "metadata": {},
   "outputs": [],
   "source": [
    "# Carregar e preparar nuvens de pontos\n",
    "source = o3d.geometry.PointCloud()\n",
    "target = o3d.geometry.PointCloud()\n",
    "source.points = o3d.utility.Vector3dVector(point_clouds[0])\n",
    "target.points = o3d.utility.Vector3dVector(point_clouds[1])\n",
    "\n",
    "# Colorir para visualização\n",
    "source.paint_uniform_color([0.5, 0.5, 0.5])  # Cinza\n",
    "target.paint_uniform_color([0, 0, 1])        # Azul\n",
    "\n",
    "# Alinhamento inicial baseado nos centróides\n",
    "source_points = np.asarray(source.points)\n",
    "target_points = np.asarray(target.points)\n",
    "source_centroid = np.mean(source_points, axis=0)\n",
    "target_centroid = np.mean(target_points, axis=0)\n",
    "initial_transform = np.eye(4)\n",
    "initial_transform[:3, 3] = target_centroid - source_centroid\n",
    "source = source.transform(initial_transform)\n",
    "\n",
    "# Parâmetros do ICP\n",
    "max_iterations = 50\n",
    "threshold = 1e-6\n",
    "prev_error = float('inf')\n",
    "curr_error = 1000"
   ]
  },
  {
   "cell_type": "code",
   "execution_count": 8,
   "metadata": {},
   "outputs": [
    {
     "name": "stdout",
     "output_type": "stream",
     "text": [
      "Iteração 1, Erro: 0.065812\n",
      "Iteração 2, Erro: 0.063219\n",
      "Iteração 3, Erro: 0.061734\n",
      "Iteração 4, Erro: 0.060764\n",
      "Iteração 5, Erro: 0.060133\n",
      "Iteração 6, Erro: 0.059594\n",
      "Iteração 7, Erro: 0.058912\n",
      "Iteração 8, Erro: 0.057905\n",
      "Iteração 9, Erro: 0.056340\n",
      "Iteração 10, Erro: 0.054273\n",
      "Iteração 11, Erro: 0.051626\n",
      "Iteração 12, Erro: 0.048323\n",
      "Iteração 13, Erro: 0.044664\n",
      "Iteração 14, Erro: 0.041145\n",
      "Iteração 15, Erro: 0.038054\n",
      "Iteração 16, Erro: 0.035288\n",
      "Iteração 17, Erro: 0.033093\n",
      "Iteração 18, Erro: 0.031455\n",
      "Iteração 19, Erro: 0.030219\n",
      "Iteração 20, Erro: 0.029204\n",
      "Iteração 21, Erro: 0.028418\n",
      "Iteração 22, Erro: 0.027763\n",
      "Iteração 23, Erro: 0.027178\n",
      "Iteração 24, Erro: 0.026672\n",
      "Iteração 25, Erro: 0.026268\n",
      "Iteração 26, Erro: 0.025952\n",
      "Iteração 27, Erro: 0.025702\n",
      "Iteração 28, Erro: 0.025522\n",
      "Iteração 29, Erro: 0.025392\n",
      "Iteração 30, Erro: 0.025297\n",
      "Iteração 31, Erro: 0.025231\n",
      "Iteração 32, Erro: 0.025185\n",
      "Iteração 33, Erro: 0.025153\n",
      "Iteração 34, Erro: 0.025129\n",
      "Iteração 35, Erro: 0.025110\n",
      "Iteração 36, Erro: 0.025096\n",
      "Iteração 37, Erro: 0.025085\n",
      "Iteração 38, Erro: 0.025076\n",
      "Iteração 39, Erro: 0.025069\n",
      "Iteração 40, Erro: 0.025064\n",
      "Iteração 41, Erro: 0.025061\n",
      "Iteração 42, Erro: 0.025058\n",
      "Iteração 43, Erro: 0.025056\n",
      "Iteração 44, Erro: 0.025054\n",
      "Iteração 45, Erro: 0.025053\n",
      "Iteração 46, Erro: 0.025053\n",
      "Iteração 47, Erro: 0.025052\n",
      "Iteração 48, Erro: 0.025052\n",
      "Iteração 49, Erro: 0.025052\n",
      "Convergência atingida após 50 iterações\n"
     ]
    }
   ],
   "source": [
    "patience = 0\n",
    "consecutive_small_improvements = 0\n",
    "\n",
    "# Loop principal do ICP\n",
    "for iteration in range(max_iterations):\n",
    "    # Verificar convergência com critério mais inteligente\n",
    "    improvement = prev_error - curr_error\n",
    "    \n",
    "    # Se a melhoria for pequena\n",
    "    if improvement < threshold:\n",
    "        consecutive_small_improvements += 1\n",
    "        patience += 1\n",
    "        \n",
    "        # Punir mais se o erro estiver aumentando\n",
    "        if curr_error > prev_error:\n",
    "            patience += 1\n",
    "            print(f\"Aviso: Erro aumentou na iteração {iteration + 1}\")\n",
    "        \n",
    "        # Verificar convergência com critérios dinâmicos\n",
    "        if patience >= 5 or consecutive_small_improvements >= 7:\n",
    "            print(f\"Convergência atingida após {iteration + 1} iterações\")\n",
    "            break\n",
    "    else:\n",
    "        # Reduzir paciência gradualmente em vez de zerar completamente\n",
    "        patience = max(0, patience - 1)\n",
    "        consecutive_small_improvements = 0\n",
    "    \n",
    "    prev_error = curr_error\n",
    "    \n",
    "    # 1. Encontrar correspondências\n",
    "    source_corr, distances = find_nearest_neighbors_knn(source, target_points)\n",
    "    \n",
    "    # 2. Calcular transformação rígida ótima\n",
    "    source_centroid = np.mean(source_corr, axis=0)\n",
    "    target_centroid = np.mean(target_points, axis=0)\n",
    "    \n",
    "    source_centered = source_corr - source_centroid\n",
    "    target_centered = target_points - target_centroid\n",
    "    \n",
    "    # 3. Calcular matriz de covariância e SVD\n",
    "    cov = target_centered.T @ source_centered\n",
    "    U, _, Vt = np.linalg.svd(cov)\n",
    "    \n",
    "    # Garantir rotação própria (det = 1)\n",
    "    S = np.eye(3)\n",
    "    if np.linalg.det(U @ Vt) < 0:\n",
    "        S[2, 2] = -1\n",
    "    \n",
    "    # 4. Calcular rotação e translação\n",
    "    R = U @ S @ Vt\n",
    "    t = target_centroid - R @ source_centroid\n",
    "    \n",
    "    # 5. Aplicar transformação\n",
    "    transform = np.eye(4)\n",
    "    transform[:3, :3] = R\n",
    "    transform[:3, 3] = t\n",
    "    source = source.transform(transform)\n",
    "    \n",
    "    # 6. Atualizar erro\n",
    "    curr_error = np.mean(distances)\n",
    "    print(f\"Iteração {iteration + 1}, Erro: {curr_error:.6f}\")\n",
    "\n",
    "# print(\"Transformação final:\")\n",
    "# print(transform)\n"
   ]
  },
  {
   "cell_type": "code",
   "execution_count": null,
   "metadata": {},
   "outputs": [
    {
     "name": "stdout",
     "output_type": "stream",
     "text": [
      "Transformação invertida (comparável ao ground truth):\n",
      "[[ 1.00000000e+00  1.90334688e-06  2.51593207e-06  2.59647326e-05]\n",
      " [-1.90333583e-06  1.00000000e+00 -4.39224058e-06  3.72013557e-04]\n",
      " [-2.51594043e-06  4.39223579e-06  1.00000000e+00 -3.29806316e-05]\n",
      " [ 0.00000000e+00  0.00000000e+00  0.00000000e+00  1.00000000e+00]]\n"
     ]
    }
   ],
   "source": [
    "def inverse_transform(T):\n",
    "    \"\"\"Inverte uma transformação homogênea 4x4\"\"\"\n",
    "    R = T[:3, :3]\n",
    "    t = T[:3, 3]\n",
    "    \n",
    "    # Calcular inversa\n",
    "    R_inv = R.T  # Inversa da rotação é a transposta\n",
    "    t_inv = -R_inv @ t  # Translação inversa\n",
    "    \n",
    "    # Construir matriz inversa\n",
    "    T_inv = np.eye(4)\n",
    "    T_inv[:3, :3] = R_inv\n",
    "    T_inv[:3, 3] = t_inv\n",
    "    \n",
    "    return T_inv\n",
    "\n",
    "# Após calcular sua transformação final no ICP:\n",
    "transform_invertido = inverse_transform(transform)\n",
    "print(\"Transformação invertida (comparável ao ground truth):\")\n",
    "print(transform_invertido)"
   ]
  },
  {
   "cell_type": "code",
   "execution_count": 10,
   "metadata": {},
   "outputs": [
    {
     "name": "stdout",
     "output_type": "stream",
     "text": [
      "Erro em relação ao ground truth: 0.0003744522329037734\n"
     ]
    }
   ],
   "source": [
    "erro = np.linalg.norm(transform_invertido - ground_truth[0])\n",
    "print(f\"Erro em relação ao ground truth: {erro}\")"
   ]
  },
  {
   "cell_type": "code",
   "execution_count": 11,
   "metadata": {},
   "outputs": [],
   "source": [
    "# Visualização da nuvem de pontos alinhada\n",
    "source_temp = copy.deepcopy(source)\n",
    "target_temp = copy.deepcopy(target)\n",
    "source_temp.paint_uniform_color([1, 0.706, 0])\n",
    "target_temp.paint_uniform_color([0, 0.651, 0.929])\n",
    "source_temp.transform(transform)\n",
    "o3d.visualization.draw_geometries([source_temp, target_temp], zoom=0.4459, front=[0.9288, -0.2951, -0.2242], lookat=[1.6784, 2.0612, 1.4451], up=[-0.3402, -0.9189, -0.1996])"
   ]
  },
  {
   "cell_type": "code",
   "execution_count": 12,
   "metadata": {},
   "outputs": [
    {
     "data": {
      "text/plain": [
       "array([[ 1.000000e+00,  9.043680e-12,  2.326809e-11,  5.551115e-17],\n",
       "       [ 9.043683e-12,  1.000000e+00,  2.392370e-10,  3.330669e-16],\n",
       "       [ 2.326810e-11,  2.392370e-10,  9.999999e-01, -4.440892e-16],\n",
       "       [ 0.000000e+00,  0.000000e+00,  0.000000e+00,  1.000000e+00]])"
      ]
     },
     "execution_count": 12,
     "metadata": {},
     "output_type": "execute_result"
    }
   ],
   "source": [
    "ground_truth[0]"
   ]
  }
 ],
 "metadata": {
  "kernelspec": {
   "display_name": "icpkitti",
   "language": "python",
   "name": "python3"
  },
  "language_info": {
   "codemirror_mode": {
    "name": "ipython",
    "version": 3
   },
   "file_extension": ".py",
   "mimetype": "text/x-python",
   "name": "python",
   "nbconvert_exporter": "python",
   "pygments_lexer": "ipython3",
   "version": "3.10.16"
  }
 },
 "nbformat": 4,
 "nbformat_minor": 2
}
