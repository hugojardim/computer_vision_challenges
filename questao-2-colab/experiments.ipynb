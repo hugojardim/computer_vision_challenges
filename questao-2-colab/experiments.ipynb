{
  "cells": [
    {
      "cell_type": "code",
      "source": [
        "from google.colab import drive\n",
        "drive.mount('/content/drive')"
      ],
      "metadata": {
        "id": "yDUiomOhzJsX",
        "outputId": "c8312427-1a49-4b9a-bbec-6ca89851bcb1",
        "colab": {
          "base_uri": "https://localhost:8080/"
        }
      },
      "execution_count": 1,
      "outputs": [
        {
          "output_type": "stream",
          "name": "stdout",
          "text": [
            "Mounted at /content/drive\n"
          ]
        }
      ]
    },
    {
      "cell_type": "code",
      "source": [
        "%pip install uv\n",
        "!uv pip install trimesh\n",
        "!uv pip install mtcnn"
      ],
      "metadata": {
        "id": "CLgCI3gjzMW-",
        "outputId": "5f932002-ac38-4c22-e2fd-1348ff47a075",
        "colab": {
          "base_uri": "https://localhost:8080/"
        }
      },
      "execution_count": 2,
      "outputs": [
        {
          "output_type": "stream",
          "name": "stdout",
          "text": [
            "Collecting uv\n",
            "  Downloading uv-0.6.5-py3-none-manylinux_2_17_x86_64.manylinux2014_x86_64.whl.metadata (11 kB)\n",
            "Downloading uv-0.6.5-py3-none-manylinux_2_17_x86_64.manylinux2014_x86_64.whl (16.2 MB)\n",
            "\u001b[2K   \u001b[90m━━━━━━━━━━━━━━━━━━━━━━━━━━━━━━━━━━━━━━━━\u001b[0m \u001b[32m16.2/16.2 MB\u001b[0m \u001b[31m110.8 MB/s\u001b[0m eta \u001b[36m0:00:00\u001b[0m\n",
            "\u001b[?25hInstalling collected packages: uv\n",
            "Successfully installed uv-0.6.5\n",
            "\u001b[2mUsing Python 3.11.11 environment at: /usr\u001b[0m\n",
            "\u001b[2K\u001b[2mResolved \u001b[1m2 packages\u001b[0m \u001b[2min 133ms\u001b[0m\u001b[0m\n",
            "\u001b[2K\u001b[37m⠙\u001b[0m \u001b[2mPreparing packages...\u001b[0m (0/1)\n",
            "\u001b[2K\u001b[1A\u001b[37m⠙\u001b[0m \u001b[2mPreparing packages...\u001b[0m (0/1)\n",
            "\u001b[2K\u001b[1A\u001b[37m⠙\u001b[0m \u001b[2mPreparing packages...\u001b[0m (0/1)\n",
            "\u001b[2K\u001b[1A\u001b[37m⠙\u001b[0m \u001b[2mPreparing packages...\u001b[0m (0/1)\n",
            "\u001b[2K\u001b[1A\u001b[37m⠙\u001b[0m \u001b[2mPreparing packages...\u001b[0m (0/1)\n",
            "\u001b[2K\u001b[1A\u001b[37m⠙\u001b[0m \u001b[2mPreparing packages...\u001b[0m (0/1)\n",
            "\u001b[2K\u001b[1A\u001b[37m⠙\u001b[0m \u001b[2mPreparing packages...\u001b[0m (0/1)\n",
            "\u001b[2K\u001b[1A\u001b[37m⠙\u001b[0m \u001b[2mPreparing packages...\u001b[0m (0/1)\n",
            "\u001b[2K\u001b[1A\u001b[37m⠙\u001b[0m \u001b[2mPreparing packages...\u001b[0m (0/1)\n",
            "\u001b[2K\u001b[1A\u001b[37m⠙\u001b[0m \u001b[2mPreparing packages...\u001b[0m (0/1)\n",
            "\u001b[2K\u001b[1A\u001b[37m⠙\u001b[0m \u001b[2mPreparing packages...\u001b[0m (0/1)\n",
            "\u001b[2K\u001b[1A\u001b[37m⠙\u001b[0m \u001b[2mPreparing packages...\u001b[0m (0/1)\n",
            "\u001b[2K\u001b[1A\u001b[37m⠙\u001b[0m \u001b[2mPreparing packages...\u001b[0m (0/1)\n",
            "\u001b[2K\u001b[1A\u001b[37m⠙\u001b[0m \u001b[2mPreparing packages...\u001b[0m (0/1)\n",
            "\u001b[2K\u001b[1A\u001b[37m⠙\u001b[0m \u001b[2mPreparing packages...\u001b[0m (0/1)\n",
            "\u001b[2K\u001b[1A\u001b[37m⠙\u001b[0m \u001b[2mPreparing packages...\u001b[0m (0/1)\n",
            "\u001b[2K\u001b[1A\u001b[37m⠙\u001b[0m \u001b[2mPreparing packages...\u001b[0m (0/1)\n",
            "\u001b[2K\u001b[1A\u001b[37m⠙\u001b[0m \u001b[2mPreparing packages...\u001b[0m (0/1)\n",
            "\u001b[2K\u001b[2mPrepared \u001b[1m1 package\u001b[0m \u001b[2min 52ms\u001b[0m\u001b[0m\n",
            "\u001b[2K\u001b[2mInstalled \u001b[1m1 package\u001b[0m \u001b[2min 7ms\u001b[0m\u001b[0m\n",
            " \u001b[32m+\u001b[39m \u001b[1mtrimesh\u001b[0m\u001b[2m==4.6.4\u001b[0m\n",
            "\u001b[2mUsing Python 3.11.11 environment at: /usr\u001b[0m\n",
            "\u001b[2K\u001b[2mResolved \u001b[1m3 packages\u001b[0m \u001b[2min 98ms\u001b[0m\u001b[0m\n",
            "\u001b[2K\u001b[37m⠙\u001b[0m \u001b[2mPreparing packages...\u001b[0m (0/2)\n",
            "\u001b[2K\u001b[1A\u001b[37m⠙\u001b[0m \u001b[2mPreparing packages...\u001b[0m (0/2)\n",
            "\u001b[2mlz4       \u001b[0m \u001b[32m\u001b[2m------------------------------\u001b[0m\u001b[0m     0 B/1.21 MiB\n",
            "\u001b[2K\u001b[2A\u001b[37m⠙\u001b[0m \u001b[2mPreparing packages...\u001b[0m (0/2)\n",
            "\u001b[2mlz4       \u001b[0m \u001b[32m\u001b[2m------------------------------\u001b[0m\u001b[0m     0 B/1.21 MiB\n",
            "\u001b[2K\u001b[2A\u001b[37m⠙\u001b[0m \u001b[2mPreparing packages...\u001b[0m (0/2)\n",
            "\u001b[2mlz4       \u001b[0m \u001b[32m\u001b[2m------------------------------\u001b[0m\u001b[0m     0 B/1.21 MiB\n",
            "\u001b[2K\u001b[2A\u001b[37m⠙\u001b[0m \u001b[2mPreparing packages...\u001b[0m (0/2)\n",
            "\u001b[2mlz4       \u001b[0m \u001b[32m\u001b[2m------------------------------\u001b[0m\u001b[0m     0 B/1.21 MiB\n",
            "\u001b[2K\u001b[2A\u001b[37m⠙\u001b[0m \u001b[2mPreparing packages...\u001b[0m (0/2)\n",
            "\u001b[2mlz4       \u001b[0m \u001b[32m-\u001b[2m-----------------------------\u001b[0m\u001b[0m 16.00 KiB/1.21 MiB\n",
            "\u001b[2K\u001b[2A\u001b[37m⠙\u001b[0m \u001b[2mPreparing packages...\u001b[0m (0/2)\n",
            "\u001b[2mlz4       \u001b[0m \u001b[32m-\u001b[2m-----------------------------\u001b[0m\u001b[0m 16.00 KiB/1.21 MiB\n",
            "\u001b[2K\u001b[2A\u001b[37m⠙\u001b[0m \u001b[2mPreparing packages...\u001b[0m (0/2)\n",
            "\u001b[2mlz4       \u001b[0m \u001b[32m-\u001b[2m-----------------------------\u001b[0m\u001b[0m 32.00 KiB/1.21 MiB\n",
            "\u001b[2K\u001b[2A\u001b[37m⠙\u001b[0m \u001b[2mPreparing packages...\u001b[0m (0/2)\n",
            "\u001b[2mlz4       \u001b[0m \u001b[32m-\u001b[2m-----------------------------\u001b[0m\u001b[0m 32.00 KiB/1.21 MiB\n",
            "\u001b[2K\u001b[2A\u001b[37m⠙\u001b[0m \u001b[2mPreparing packages...\u001b[0m (0/2)\n",
            "\u001b[2mlz4       \u001b[0m \u001b[32m--\u001b[2m----------------------------\u001b[0m\u001b[0m 48.00 KiB/1.21 MiB\n",
            "\u001b[2K\u001b[2A\u001b[37m⠙\u001b[0m \u001b[2mPreparing packages...\u001b[0m (0/2)\n",
            "\u001b[2mlz4       \u001b[0m \u001b[32m--\u001b[2m----------------------------\u001b[0m\u001b[0m 48.00 KiB/1.21 MiB\n",
            "\u001b[2K\u001b[2A\u001b[37m⠙\u001b[0m \u001b[2mPreparing packages...\u001b[0m (0/2)\n",
            "\u001b[2mlz4       \u001b[0m \u001b[32m--\u001b[2m----------------------------\u001b[0m\u001b[0m 62.57 KiB/1.21 MiB\n",
            "\u001b[2K\u001b[2A\u001b[37m⠙\u001b[0m \u001b[2mPreparing packages...\u001b[0m (0/2)\n",
            "\u001b[2mlz4       \u001b[0m \u001b[32m--\u001b[2m----------------------------\u001b[0m\u001b[0m 62.57 KiB/1.21 MiB\n",
            "\u001b[2K\u001b[2A\u001b[37m⠙\u001b[0m \u001b[2mPreparing packages...\u001b[0m (0/2)\n",
            "\u001b[2mlz4       \u001b[0m \u001b[32m--\u001b[2m----------------------------\u001b[0m\u001b[0m 78.57 KiB/1.21 MiB\n",
            "\u001b[2K\u001b[2A\u001b[37m⠙\u001b[0m \u001b[2mPreparing packages...\u001b[0m (0/2)\n",
            "\u001b[2mlz4       \u001b[0m \u001b[32m--\u001b[2m----------------------------\u001b[0m\u001b[0m 78.57 KiB/1.21 MiB\n",
            "\u001b[2K\u001b[2A\u001b[37m⠙\u001b[0m \u001b[2mPreparing packages...\u001b[0m (0/2)\n",
            "\u001b[2mlz4       \u001b[0m \u001b[32m---\u001b[2m---------------------------\u001b[0m\u001b[0m 94.57 KiB/1.21 MiB\n",
            "\u001b[2K\u001b[2A\u001b[37m⠙\u001b[0m \u001b[2mPreparing packages...\u001b[0m (0/2)\n",
            "\u001b[2mlz4       \u001b[0m \u001b[32m---\u001b[2m---------------------------\u001b[0m\u001b[0m 94.57 KiB/1.21 MiB\n",
            "\u001b[2K\u001b[2A\u001b[37m⠙\u001b[0m \u001b[2mPreparing packages...\u001b[0m (0/2)\n",
            "\u001b[2mlz4       \u001b[0m \u001b[32m-------------\u001b[2m-----------------\u001b[0m\u001b[0m 510.57 KiB/1.21 MiB\n",
            "\u001b[2K\u001b[2A\u001b[37m⠙\u001b[0m \u001b[2mPreparing packages...\u001b[0m (0/2)\n",
            "\u001b[2K\u001b[2mPrepared \u001b[1m2 packages\u001b[0m \u001b[2min 70ms\u001b[0m\u001b[0m\n",
            "\u001b[2K\u001b[2mInstalled \u001b[1m2 packages\u001b[0m \u001b[2min 3ms\u001b[0m\u001b[0m\n",
            " \u001b[32m+\u001b[39m \u001b[1mlz4\u001b[0m\u001b[2m==4.4.3\u001b[0m\n",
            " \u001b[32m+\u001b[39m \u001b[1mmtcnn\u001b[0m\u001b[2m==1.0.0\u001b[0m\n"
          ]
        }
      ]
    },
    {
      "cell_type": "markdown",
      "metadata": {
        "id": "E1T6edjYy5s6"
      },
      "source": [
        "Importar libs"
      ]
    },
    {
      "cell_type": "code",
      "execution_count": 13,
      "metadata": {
        "id": "2r1pJ4qQy5s7"
      },
      "outputs": [],
      "source": [
        "import numpy as np\n",
        "import pandas as pd\n",
        "import matplotlib.pyplot as plt\n",
        "import tensorflow as tf\n",
        "from tensorflow.keras.applications import MobileNetV2\n",
        "from tensorflow.keras.layers import GlobalAveragePooling2D, Dense, Lambda\n",
        "from tensorflow.keras.models import Sequential\n",
        "import cv2\n",
        "import os\n",
        "from sklearn.metrics.pairwise import cosine_similarity\n",
        "import gdown\n",
        "import trimesh\n",
        "import zipfile\n",
        "import random\n",
        "from tqdm import tqdm"
      ]
    },
    {
      "cell_type": "code",
      "execution_count": 4,
      "metadata": {
        "id": "WlkCLpiSy5s8"
      },
      "outputs": [],
      "source": [
        "# Definir seed para reprodutibilidade\n",
        "seed = 10\n",
        "np.random.seed(seed)\n",
        "tf.random.set_seed(seed)\n",
        "# random.seed(seed)\n",
        "os.environ['PYTHONHASHSEED'] = str(seed)\n",
        "\n",
        "# Configurações adicionais para garantir reprodutibilidade no TensorFlow\n",
        "tf.keras.utils.set_random_seed(seed)  # Configura seed para keras, tensorflow e numpy\n",
        "tf.config.experimental.enable_op_determinism()  # Garante operações determinísticas"
      ]
    },
    {
      "cell_type": "markdown",
      "metadata": {
        "id": "3dZnWEtgy5s7"
      },
      "source": [
        "Extração dos dados"
      ]
    },
    {
      "cell_type": "code",
      "source": [
        "# Baixar os dados de treino\n",
        "output_path = '/content/kitti_dataset.zip'\n",
        "url = f'https://drive.google.com/uc?id=1Mrx0OKnBFteOw1q8IZy-n8x9q8cxZwhT'\n",
        "\n",
        "gdown.download(url, output_path, quiet=False)\n",
        "\n",
        "# Extrair o conteúdo\n",
        "extract_dir = output_path.replace(\".zip\", \"\")\n",
        "os.makedirs(extract_dir, exist_ok=True)\n",
        "\n",
        "with zipfile.ZipFile(output_path, 'r') as zip_ref:\n",
        "    zip_ref.extractall(extract_dir)\n",
        "\n",
        "# Ajuste aqui: usar a pasta \"post-processed\" dentro do diretório extraído\n",
        "post_processed_dir = os.path.join(extract_dir, \"post-processed\")\n",
        "\n",
        "# Verificar se a pasta existe\n",
        "if not os.path.exists(post_processed_dir):\n",
        "    print(f\"Pasta 'post-processed' não encontrada em {extract_dir}\")\n",
        "    print(f\"Conteúdo do diretório: {os.listdir(extract_dir)}\")\n",
        "else:\n",
        "    print(f\"Pasta 'post-processed' encontrada! Conteúdo: {os.listdir(post_processed_dir)}\")\n"
      ],
      "metadata": {
        "id": "xtpZonvazeVD",
        "outputId": "def0a17b-5bea-473b-ee6d-0a2375d8018c",
        "colab": {
          "base_uri": "https://localhost:8080/"
        }
      },
      "execution_count": 5,
      "outputs": [
        {
          "output_type": "stream",
          "name": "stderr",
          "text": [
            "Downloading...\n",
            "From (original): https://drive.google.com/uc?id=1Mrx0OKnBFteOw1q8IZy-n8x9q8cxZwhT\n",
            "From (redirected): https://drive.google.com/uc?id=1Mrx0OKnBFteOw1q8IZy-n8x9q8cxZwhT&confirm=t&uuid=818aeb7d-6829-4bab-8048-b1c1bfab0ad8\n",
            "To: /content/kitti_dataset.zip\n",
            "100%|██████████| 71.4M/71.4M [00:01<00:00, 64.5MB/s]\n"
          ]
        },
        {
          "output_type": "stream",
          "name": "stdout",
          "text": [
            "Pasta 'post-processed' encontrada! Conteúdo: ['Samira_Makhmalbaf', 'Woody_Allen', 'David_Caruso', 'John_Wright', 'Mark_Kelly', 'Thad_Matta', 'Jane_Kaczmarek', 'Laurel_Clark', 'Leonardo_DiCaprio', 'Roy_Williams', 'Peter_Mugyeni', 'Jennifer_Reilly', 'Raul_Rivero', 'Linda_Dano', 'Ben_Braun', 'Keira_Knightley', 'Jim_Bunning', 'Miranda_Otto', 'Alan_Ball', 'Asmaa_Assad', 'Robin_Tunney', 'Lisa_Murkowski', 'Qusai_Hussein', 'Dionne_Warwick', 'Steve_Austin', 'Fran_Drescher', 'Priscilla_Presley', 'Jean-Claude_Juncker', 'Imelda_Marcos', 'Marc-Andre_Fleury', 'Jennifer_Garner', 'Paul_Bremer', 'Oswaldo_Paya', 'Alejandro_Lerner', 'Laurent_Woulzy', 'Raymond_Odierno', 'Yasein_Taher', 'Tom_Cruise', 'Ivan_Stambolic', 'Jorge_Arce', 'Jonathan_Mostow', 'Shigeru_Ishiba', 'Rick_Carlisle', 'Bill_Clinton', 'Dwayne_Wade', 'Jean-Marc_de_La_Sabliere', 'Mike_Scioscia', 'Stuart_Townsend', 'Bill_Cartwright', 'Bob_Hayes', 'George_McCloud', 'Javier_Vazquez', 'Adolfo_Rodriguez_Saa', 'Gloria_Allred', 'Pete_Rose', 'Carlos_Ruiz', 'Lord_Hutton', 'Alice_Fisher', 'Toshimitsu_Motegi', 'Helo_Pinheiro', 'Tommy_Robredo', 'Jaime_Pressly', 'Rick_Barnes', 'Venus_Williams', 'Gordon_Campbell', 'Jason_Alexander', 'Ilan_Ramon', 'Raul_Cubas', 'Ray_Bradbury', 'Bob_Hope', 'Patsy_Kensit', 'Luis_Gonzalez_Macchi', 'Marwan_Barghouthi', 'Oleg_Romantsev', 'Alex_Ferguson', 'Rupert_Grint', 'Eduardo_Duhalde', 'Marc_Bulger', 'Mikhail_Gorbachev', 'Lidija_Djukanovic', 'Tsutomu_Takebe', 'Ornella_Muti', 'Richard_Shelby', 'Steve_Ballmer', 'Ai_Sugiyama', 'Tom_Hanks', 'Stanley_McChrystal', 'Julie_Gerberding', 'Binyamin_Ben-Eliezer', 'Jonathan_Byrd', 'William_Macy', 'Barbara_De_Brun', 'Sean_OKeefe', 'Danielle_Spencer', 'Kelly_Clarkson', 'Sebastian_Saja', 'Ralph_Klein', 'Yoko_Ono', 'Isabela_Moraes', 'Lloyd_Richards', 'Aaron_Tippin', 'Dora_Bakoyianni', 'Gilberto_Rodriguez_Orejuela', 'Karen_Lynn_Gorney', 'Jesse_James_Leija', 'Vecdi_Gonul', 'Ron_Gonzales', 'Julianna_Margulies', 'Adam_Freier', 'Tom_Watson', 'Sandra_Bullock', 'Kareena_Kapoor', 'Jessica_Simpson', 'Sebastian_Cuattrin', 'Conan_OBrien', 'Oscar_DLeon', 'Michael_Douglas', 'Helen_Alvare', 'Dyana_Calub', 'Miguel_Estrada', 'Matthew_Broderick', 'Evan_Rachel_Wood', 'John_Negroponte', 'Kevin_Millwood', 'Michael_Phelps', 'Janet_Napolitano', 'Lionel_Richie', 'Jennifer_Lopez', 'Susilo_Bambang_Yudhoyono', 'Hosni_Mubarak', 'Mike_Myers', 'Martina_Hingis', 'Ruth_Pearce', 'Billy_Crawford', 'Andy_Griggs', 'Ozzy_Osbourne', 'Kathy_Bates', 'Hassan_Nasrallah', 'William_Webster', 'Paula_Abdul', 'Fred_Eckhard', 'Tang_Jiaxuan', 'Bill_Graham', 'Bison_Dele', 'Phil_Cline', 'Joe_DeLamielleure', 'Brian_Wells', 'Iban_Mayo', 'Vernon_Forrest', 'Paul_LeClerc', 'Michelle_Rodriguez', 'Severino_Antinori', 'Isabella_Rossellini', 'Richard_Tubb', 'Dwayne_Johnson', 'Orrin_Hatch', 'Adoor_Gopalakarishnan', 'Juan_Ignacio_Chela', 'Elva_Hsiao', 'Bijan_Darvish', 'John_Malkovich', 'Sanja_Papic', 'Kirk_Ferentz', 'Jonathan_Woodgate', 'Tatsuya_Fuji', 'Chuck_Woolery', 'Salman_Khan', 'Lauren_Hutton', 'Sananda_Maitreya', 'Nicole_Kidman', 'Gregorio_Rosal', 'Cynthia_Rowley', 'Liza_Minnelli', 'Raghad_Saddam_Hussein', 'Alex_Wallau', 'Kyle_McLaren', 'Sergei_Ivanov', 'Geoff_Dixon', 'Hal_Sellers', 'Ricardo_Monasterio', 'Dany_Heatley', 'Tassos_Papadopoulos', 'Michael_Brandon', 'Hernan_Crespo', 'Chris_Cirino', 'Pat_Cox', 'Alan_Mulally', 'Sebastian_Porto', 'Dianne_Feinstein', 'Tracee_Ellis_Ross', 'Gabriel_Valdes', 'Elton_John', 'Jacqueline_Obradors', 'Dan_Duquette', 'Jamie_Lee_Curtis', 'Ann_Veneman', 'Lloyd_Ward', 'Heather_Mills', 'Malcolm_Glazer', 'Coretta_Scott_King', 'Portia_de_Rossi', 'Martin_Keown', 'Nick_Price', 'Tommy_Tubberville', 'Dean_Barkley', 'Valentina_Tereshkova', 'Michael_Milton', 'Ashley_Judd', 'Stan_Heath', 'Princess_Masako', 'Natalie_Coughlin', 'James_Brown', 'Laura_Pausini', 'Erika_Harold', 'Sasha_Alexander', 'Gray_Davis', 'Mahmoud_Diyab_al-Ahmed', 'Micky_Arison', 'Richard_Jewell', 'Bobby_Robson', 'Rick_Romley', 'Carol_Moseley_Braun', 'Eduardo_Chillida', 'Jim_Otto', 'Fred_Durst', 'Chin-Hui_Tsao', 'Jamie_Kellner', 'Tom_Curley', 'Liv_Tyler', 'Andrew_Luster', 'King_Abdullah_II', 'Olympia_Dukakis', 'Juan_Valencia_Osorio', 'Edward_Johnson', 'Richard_Penniman', 'Angela_Lansbury', 'Abbas_Kiarostami', 'Jacky_Cheung', 'Se_Hyuk_Joo', 'Taylor_Twellman', 'Alberto_Sordi', 'Mikhail_Youzhny', 'Marina_Anissina', 'Aleksander_Kwasniewski', 'Franco_Dragone', 'Vanessa_Williams', 'Gary_Gitnick', 'Dan_Monson', 'Tom_Rouen', 'Dexter_Jackson', 'Melissa_Joan_Hart', 'Pat_Summitt', 'Gary_Winnick', 'Edith_Masai', 'Chuck_Hagel', 'Shannyn_Sossamon', 'Michelle_Kwan', 'Dan_Wheldon', 'Nicola_Bono', 'Luke_Ridnour', 'Felix_Trinidad', 'Kathryn_Morris', 'Robert_Mugabe', 'Mohamed_Seineldin', 'Richard_Haass', 'Julie_Taymor', 'Micah_Knorr', 'Jelena_Dokic', 'Hong_Myung', 'Heather_Locklear', 'Humberto_Coelho', 'James_Coburn', 'Katie_Harman', 'Massoud_Barzani', 'Paul_Sarbanes', 'Clare_Short', 'Eric_Lloyd', 'Arsinee_Khanjian', 'Aron_Ralston', 'Hana_Urushima', 'Katrin_Cartlidge', 'Mike_Flanagan', 'Aleksander_Voloshin', 'Carin_Koch', 'Amanda_Marsh', 'Condoleezza_Rice', 'John_Swofford', 'Mikulas_Dzurinda', 'Peter_Costello', 'Erin_Brockovich', 'Lela_Rochon', 'Betty_Williams', 'Roberto_Canessa', 'Daniel_Day-Lewis', 'Edwin_Edwards', 'Felix_Sanchez', 'Geraldine_Chaplin', 'Carlos_Menem', 'Ian_Thorpe', 'Adam_Mair', 'Stephen_Silas', 'Gillian_Anderson', 'Martin_Brodeur', 'Prince_Claus', 'Aline_Chretien', 'Veronica_Lake', 'Svetislav_Pesic', 'Bill_Nelson', 'Scott_Ritter', 'Richard_Greenberg', 'John_Salazar', 'Alastair_Campbell', 'Andy_North', 'Joey_Mantia', 'Markus_Naslund', 'Joe_Lieberman', 'Gary_Stevens', 'William_Delahunt', 'Strom_Thurmond', 'Elijah_Wood', 'Norbert_van_Heyst', 'Jennifer_Aniston', 'Queen_Elizabeth_II', 'Darin_Erstad', 'David_Kelley', 'Yekaterina_Guseva', 'Donald_Evans', 'Geno_Auriemma', 'James_Kopp', 'Gisele_Bundchen', 'Francis_Ford_Coppola', 'Cindy_Crawford', 'Chang_Dae-whan', 'Manijeh_Hekmat', 'Tiago_Splitter', 'Tom_Glavine', 'Aaron_Eckhart', 'Emilio_Botin', 'Mark_Podlesny', 'Nadia_Petrova', 'Craig_Fitzgibbon', 'Gary_Leon_Ridgway', 'Luis_Ernesto_Derbez_Bautista', 'Robert_Tyrrell', 'Calista_Flockhart', 'Cass_Ballenger', 'Sila_Calderon', 'Peter_Care', 'James_Wolfensohn', 'Wang_Nan', 'Francis_Ricciardone', 'Buddy_Ryan', 'Ian_Huntley', 'Marina_Kuptsova', 'Gordana_Grubin', 'William_Morrow', 'Tara_VanDerveer', 'James_Cunningham', 'Stefan_Holm', 'Tony_Bennett', 'Martin_Lawrence', 'Mekhi_Phifer', 'Kelvin_Sampson', 'Jessica_Lange', 'Larry_Hagman', 'Tim_Pawlenty', 'Bill_Elliott', 'Hannah_Stockbauer', 'Arye_Mekel', 'Alecos_Markides', 'Alan_Trammell', 'Tim_Robbins', 'Salma_Hayek', 'Li_Ka-shing', 'Donna_Shalala', 'Nong_Duc_Manh', 'Jimmy_Gurule', 'Stephen_Crampton', 'Bruce_Gebhardt', 'Robin_Cook', 'Baz_Luhrmann', 'Paul_Johnson', 'Jeremy_Fogel', 'Bill_Guerin', 'Garry_Kasparov', 'Erskine_Bowles', 'Catriona_Le_May_Doan', 'Luke_Walton', 'Monique_Garbrecht-Enfeldt', 'Kenneth_Bowersox', 'Lokendra_Bahadur_Chand', 'Andy_Garcia', 'Tian_Zhuang_Zhuang', 'David_Duval', 'Bill_Simon', 'James_Comey', 'Meryl_Streep', 'John_Coomber', 'Li_Zhaoxing', 'Kevin_Spacey', 'Stephen_Frears', 'Petria_Thomas', 'Francisco_Flores', 'Lily_Safra', 'Jane_Krakowski', 'Dunn_Lampton', 'Ernie_Grunfeld', 'Vin_Diesel', 'Chris_Moore', 'Jean-Claude_Braquet', 'George_Maxwell_Richards', 'OJ_Simpson', 'Ahmed_Ahmed', 'Daniel_Barenboim', 'Richard_Gere', 'Bob_Huggins', 'Paul_Reiser', 'Jay_Rasulo', 'Sybille_Schmid', 'Doug_Wilson', 'Cesar_Maia', 'Jean-Sebastien_Giguere', 'Mariana_Ohata', 'Patrick_Leahy', 'Brent_Coles', 'Michel_Therrien', 'Donald_Rumsfeld', 'Phil_Donahue', 'Paul_McNulty', 'Anthony_Hopkins', 'Laurent_Jalabert', 'Corinne_Coman', 'Manuel_Pellegrini', 'Tony_Stewart', 'Dan_Quayle', 'Leticia_Van_de_Putte', 'Bashar_Assad', 'Iveta_Benesova', 'Jason_Kidd', 'Pupi_Avati', 'Malcolm_Jamal_Warner', 'Svend_Robinson', 'Recep_Tayyip_Erdogan', 'Teresa_Worbis', 'Ismail_Abu_Shanab', 'Nicoletta_Braschi', 'Hayley_Tullett', 'Katie_Wagner', 'Joseph_Ralston', 'Rick_Santorum', 'Ethan_Hawke', 'Marcus_Gronholm', 'Pedro_Martinez', 'Queen_Noor', 'Scott_McClellan', 'Stockard_Channing', 'Jose_Serra', 'Jorge_Valdano', 'Clive_Lloyd', 'Gabriel_Farhi', 'Peter_Struck', 'Princess_Elisabeth', 'Dusty_Baker', 'Mo_Elleithee', 'Priscilla_Owen', 'Tony_Blair', 'Jeffrey_Immelt', 'Fernando_Henrique_Cardoso', 'Pierre_Lacroix', 'Tanya_Lindenmuth', 'Ben_Curtis', 'Tina_Pisnik', 'Edward_Flynn', 'Janez_Drnovsek', 'Robert_Lee_Yates_Jr', 'George_Allen', 'Barbara_Bodine', 'Arturo_Gatti', 'Rashid_Qureshi', 'LK_Advani', 'Claudette_Robinson', 'Max_Mosley', 'Sinead_OConnor', 'Juan_Francisco_Palencia', 'Dick_Armey', 'Mohammed_Baqir_al-Hakim', 'Brett_Hull', 'Paul_Byrd', 'Tessa_Jowell', 'Robert_Redford', 'Baburam_Bhattari', 'Patty_Schnyder', 'Deepa_Mehta', 'John_Baldacci', 'Hugh_Carey', 'James_Gandolfini', 'Cindy_Margolis', 'Victoria_Beckham', 'Luca_Cordero_di_Montezemolo', 'Trent_Lott', 'Janet_Chandler', 'Aicha_El_Ouafi', 'Gil_Cates', 'JC_Chasez', 'Gabriel_Batistuta', 'Arnaud_Clement', 'Mahima_Chaudhari', 'Clara_Harris', 'Gregory_Peck', 'Lon_Kruger', 'Brennon_Leighton', 'Costas_Simitis', 'Adam_Ant', 'Alanis_Morissette', 'Mike_Helton', 'Vincent_Brooks', 'Chance_Mock', 'Michael_Schumacher', 'Daniel_Osorno', 'Ken_Macha', 'Gus_Frerotte', 'Michael_Boyce', 'Gary_Doer', 'David_Collenette', 'Henry_Castellanos', 'Denis_Coderre', 'Claudio_Lopez', 'Mike_Babcock', 'Jim_Thome', 'Jean-Claude_Trichet', 'Sherri_Coale', 'Tom_Coverdale', 'Anne_Krueger', 'Atom_Egoyan', 'John_Scarlett', 'James_Brosnahan', 'Jerry_Sloan', 'Irina_Lobacheva', 'Charlie_Hunnam', 'Debra_Brown', 'Robert_Hanssen', 'Brian_Cowen', 'Marco_Pantani', 'Linus_Roache', 'Dolly_Parton', 'Ellen_Barkin', 'Princess_Anne', 'Mike_Bryan', 'Nikki_Reed', 'Kirk_Douglas', 'Manuel_Llorente', 'Ernie_Els', 'James_Butts', 'Fred_Thompson', 'Deniz_Baykal', 'Vicente_Fernandez', 'Arnaud_Lagardere', 'Paul_Walker', 'Charlotte_Rampling', 'Michael_Kirby', 'Boris_Yeltsin', 'Steve_Pagliuca', 'Bridgette_Wilson-Sampras', 'Blas_Ople', 'Nick_Nolte', 'Jefferson_Perez', 'Lawrence_Di_Rita', 'Brigitte_Boisselier', 'Monte_Kiffin', 'Guangdong_Ou_Guangyuan', 'Jeremy_Shockey', 'Rio_Ferdinand', 'Patty_Sheehan', 'Anders_Fogh_Rasmussen', 'Alfonso_Cuaron', 'Natalie_Maines', 'Natasha_Henstridge', 'Gerald_Riley', 'Robert_Fico', 'Monica_Bellucci', 'Brad_Miller', 'Rosario_Dawson', 'Jane_Leeves', 'John_Elway', 'Laura_Flessel', 'Jeff_Bridges', 'Carey_Lowell', 'Miles_Stewart', 'Ismail_Khan', 'Stefan_Koubek', 'Martin_Cauchon', 'Arnold_Palmer', 'Atal_Bihari_Vajpayee', 'Jorge_Batlle', 'Benito_Santiago', 'Miguel_Angel_Rodriguez', 'Blythe_Danner', 'Donald_Carty', 'Arie_Haan', 'Rod_Thorn', 'T_Boone_Pickens', 'Anne_ONeil', 'Carlos_Quintanilla_Schmidt', 'Wes_Craven', 'John_Franco', 'Wolfgang_Schneiderhan', 'Kofi_Annan', 'Sasha_Cohen', 'Abel_Pacheco', 'Gregory_Geoffroy', 'Randy_Jackson', 'Tim_Duncan', 'Ricardo_Lagos', 'Rick_Bragg', 'Tayshaun_Prince', 'Horst_Koehler', 'Marcos_Milinkovic', 'Ernesto_Zedillo', 'Boris_Berezovsky', 'Harbhajan_Singh', 'John_Cornyn', 'David_Nalbandian', 'Mohammed_Al_Hindi', 'Max_Baucus', 'Dave_McGinnis', 'David_Suazo', 'Michael_Capellas', 'Ray_Allen', 'Yukiko_Okudo', 'Wim_Duisenberg', 'David_Ho', 'Glafcos_Clerides', 'Leandrinho_Barbosa', 'Emma_Thompson', 'Carlos_Ghosn', 'Henk_Bekedam', 'Lenny_Wilkens', 'Susan_Sarandon', 'John_Reid', 'Gian_Marco', 'Shannon_OBrien', 'Louisa_Baileche', 'Kenneth_Branagh', 'Platon_Lebedev', 'Kim_Jong-Il', 'Camille_Colvin', 'Laura_Hernandez', 'Mark_Wahlberg', 'Penny_Lancaster', 'Guus_Hiddink', 'Valery_Giscard_dEstaing', 'Norm_Coleman', 'Ken_Kutaragi', 'Tammy_Lynn_Michaels', 'Lisa_Stone', 'Steven_Spielberg', 'Julio_Rossi', 'Antony_Leung', 'Tavis_Smiley', 'Andy_Madikians', 'Robert_Korzeniowski', 'Eric_Rosser', 'Richard_Naughton', 'Rafael_Vinoly', 'Joseph_Biden', 'Carolyn_Dawn_Johnson', 'Joe_Calzaghe', 'Chris_Noth', 'Magui_Serna', 'Kristin_Scott_Thomas', 'Zaini_Abdullah', 'Jade_Jagger', 'Lana_Clarkson', 'Ray_Nagin', 'Charles_Grassley', 'Maria_Burks', 'David_Montoya', 'Zico', 'Jane_Pauley', 'Claudia_Schiffer', 'Abdullah', 'Enrique_Oliu', 'Gideon_Yago', 'Bob_Graham', 'Gary_Marshall', 'Janet_Thorpe', 'Ali_Abdullah_Saleh', 'Stephen_Arigbabu', 'Princess_Caroline', 'Saeed_Mortazavi', 'Rainer_Gut', 'Cristina_Kirchner', 'Iva_Majoli', 'Peter_Chan', 'Mary-Kate_Olsen', 'Ajit_Agarkar', 'Julio_Iglesias_Jr', 'George_Lucas', 'Hugh_Hefner', 'Daniel_Coats', 'Radovan_Karadzic', 'Jacques_Rogge', 'Lisa_Ling', 'Raul_Gonzalez', 'Jose_Maria_Aznar', 'Jose_Bove', 'Michael_Bloomberg', 'Svetlana_Koroleva', 'Brooke_Adams', 'Zach_Parise', 'Neri_Marcore', 'Cristina_Saralegui', 'Lynn_Abraham', 'Hu_Jintao', 'Michael_Jackson', 'Angelina_Jolie', 'Xavier_Malisse', 'Charles_Taylor', 'Dean_Barker', 'Porter_Goss', 'Emily_Mortimer', 'Jamling_Norgay', 'Dominique_Perben', 'Dinah_Turner', 'Paul_Kagame', 'Bo_Ryan', 'Carina_Lau_Ka-ling', 'Lionel_Chalmers', 'Idi_Amin', 'Evelyn_Lauder', 'Benjamin_Franklin', 'Mike_Miller', 'Jan-Michael_Gambill', 'Martha_Smith', 'Celia_Cruz', 'Prince_Charles', 'Francis_Mer', 'Phoenix_Chang', 'Donna_Morrissey', 'Lenny_Kravitz', 'Joe_Mantello', 'John_Walsh', 'Vince_Gill', 'Kamal_Kharrazi', 'Sebastien_Grosjean', 'Peter_Ueberroth', 'Jesse_Helms', 'Alexandra_Vodjanikova', 'John_Herrington', 'Peter_Gabriel', 'Abdullah_Gul', 'Jeanette_Gray', 'Ed_Case', 'Rachel_Leigh_Cook', 'Amanda_Beard', 'Jennifer_Capriati', 'Aretha_Franklin', 'Elizabeth_Smart', 'Jalen_Rose', 'Lara_Logan', 'Mary_Steenburgen', 'George_Pataki', 'Edwina_Currie', 'Fernando_Sanz', 'Edward_Norton', 'Prince_Willem-Alexander', 'Alfred_Sant', 'Conchita_Martinez', 'Nicole_Hiltz', 'Emily_Robison', 'Dennis_Hastert', 'John_Robbins', 'Simon_Cowell', 'Pascal_Affi_Nguessan', 'John_Hartson', 'Andrew_Jarecki', 'Chloe_Sevigny', 'Diana_Ross', 'Gwendal_Peizerat', 'Katie_Smith', 'Sanjay_Gupta', 'Harland_Braun', 'Joe_Crede', 'Garry_Trudeau', 'Theo_Angelopoulos', 'Martin_Rodriguez', 'Melissa_Etheridge', 'Edward_Kennedy', 'Drew_Barrymore', 'Makiko_Tanaka', 'George_Karl', 'Mary_Bono', 'Carl_Pope', 'John_Ruiz', 'Al_Gore', 'Tyra_Banks', 'Lindsey_Graham', 'Dan_Kellner', 'Hector_Babenco', 'Lindsay_Benko', 'Andy_Benes', 'Fabricio_Oberto', 'Chris_Cookson', 'LeBron_James', 'Ian_McKellen', 'Brian_Schneider', 'Zafarullah_Khan_Jamali', 'Mike_Matheny', 'Colin_Prescot', 'Ismail_Cem', 'Kurt_Busch', 'Bob_Melvin', 'Kobe_Bryant', 'Masum_Turker', 'Mother_Teresa', 'Don_King', 'Mark_Lazarus', 'Michael_Lopez-Alegria', 'Hamzah_Haz', 'Diana_Taurasi', 'Arminio_Fraga', 'Stanley_Ho', 'Alec_Baldwin', 'Gong_Ruina', 'Torri_Edwards', 'Patrick_Rafter', 'Don_Nickles', 'Mark_Cuban', 'Phil_Bennett', 'Aileen_Riggin_Soule', 'Zoran_Djindjic', 'Bill_Pryor', 'David_Blaine', 'Nick_Markakis', 'Ken_Loach', 'Takahiro_Mori', 'Luis_Guzman', 'Nastassia_Kinski', 'James_McGreevey', 'Lew_Rywin', 'Leonid_Kuchma', 'Kim_Dae-jung', 'Sylvia_Plachy', 'Gregor_Gysi', 'Britney_Spears', 'Alex_Corretja', 'Bill_Callahan', 'Nicolas_Massu', 'Anna_Nicole_Smith', 'Narendra_Modi', 'Antje_Buschschulte', 'Paula_Radcliffe', 'Lina_Krasnoroutskaya', 'Daniel_Bruehl', 'Clint_Eastwood', 'Catherine_Donkers', 'Patrick_Eaves', 'Miguel_Rosseto', 'Willie_Nelson', 'Javier_Camara', 'Ghassan_Elashi', 'Naoto_Kan', 'Aaron_Peirsol', 'Rollie_Massimino', 'Milan_Kucan', 'Eliane_Karp', 'Sonia_Gandhi', 'Nick_Reilly', 'Tommy_Thompson', 'Sarah_Hughes', 'Lynne_Thigpen', 'Adolfo_Aguilar_Zinser', 'Johnny_Tapia', 'Nancy_Reagan', 'Mark_Polansky', 'Alonzo_Mourning', 'Patrick_Stewart', 'David_Trimble', 'Elisha_Cuthbert', 'Hassanal_Bolkiah', 'Annette_Bening', 'Christopher_Patten', 'Anastasia_Kelesidou', 'Emmanuel_Milingo', 'Vanessa_Incontrada', 'Jamie_King', 'Kristen_Breitweiser', 'Jim_Letten', 'Ricardo_Lopez_Murphy', 'Judy_Genshaft', 'Jan_Ullrich', 'Maurice_Papon', 'Paul_Gascoigne', 'Joe_Mantegna', 'Marcelo_Rios', 'Chris_Swecker', 'George_Tenet', 'Cecile_de_France', 'Dan_Guerrero', 'Bill_Fennelly', 'Saeb_Erekat', 'Lucio_Gutierrez', 'James_Franco', 'Milo_Djukanovic', 'Augusto_Pinochet', 'Gil_de_Ferran', 'Lance_Armstrong', 'Manfred_Stolpe', 'Kathryn_Grayson', 'Perry_Farrell', 'Laurent_Gbagbo', 'Ernie_Fletcher', 'Vince_Dooley', 'Alan_Dershowitz', 'Mayumi_Moriyama', 'Werner_Schlager', 'Tony_Clement', 'Graeme_Lloyd', 'Kyra_Sedgwick', 'Sean_Penn', 'Li_Peng', 'Hideki_Sato', 'Felipe_De_Borbon', 'Enrica_Fico', 'Didier_Defago', 'Tom_Harkin', 'Ruben_Wolkowyski', 'Jean-Francois_Pontal', 'Theresa_May', 'Wan_Yanhai', 'Mark_Schweiker', 'Lars_Von_Trier', 'John_Manley', 'Lynne_Cheney', 'Chris_Dodd', 'Michael_Pfleger', 'Billy_Andrade', 'Michael_Richards', 'George_Foreman', 'Delphine_Chuillot', 'Hans_Eichel', 'Sarah_Michelle_Gellar', 'Edmund_Hillary', 'Marcos_Cafu', 'Mike_Brey', 'Eugene_Melnyk', 'Darcy_Regier', 'Calbert_Cheaney', 'Eli_Stutsman', 'Muammar_Gaddafi', 'Ashanti', 'Doug_Duncan', 'Pier_Ferdinando_Casini', 'Andy_Rooney', 'Mehmet_Okur', 'Dave_Campo', 'El_Hadji_Diouf', 'Doc_Rivers', 'Alexandra_Stevenson', 'John_Velazquez', 'Don_Flanagan', 'Roberta_Combs', 'MC_Hammer', 'Ruth_Christofferson', 'Doug_Collins', 'Steve_Kerr', 'Mary_Landrieu', 'Gene_Hackman', 'Dave_Barr', 'Ivan_Helguera', 'Jonathan_Karsh', 'Robert_Downey_Jr', 'Steve_Valentine', 'Kristin_Davis', 'Piers_Sellers', 'Nobuyuki_Idei', 'Jason_Mewes', 'Sepp_Blatter', 'Mario_Lemieux', 'Hartmut_Mehdorn', 'Bill_Self', 'Mickey_Rooney', 'Chuck_Amato', 'Alexandre_Herchcovitch', 'Shimon_Peres', 'Hassan_Wirajuda', 'Gianna_Angelopoulos-Daskalaki', 'George_Gregan', 'George_Harrison', 'Peter_Bacanovic', 'Mario_Vasquez_Rana', 'Judith_Nathan', 'Emanuel_Ginobili', 'Colin_Farrell', 'Lindsay_Davenport', 'George_HW_Bush', 'Einars_Repse', 'Andy_Griffith', 'Daniel_Scioli', 'Jose_Santos', 'Ralph_Lauren', 'Tristan_Gretzky', 'John_McEnroe', 'John_Rusnak', 'Kate_Capshaw', 'Gregg_Popovich', 'Hugh_Campbell', 'Mark_Philippoussis', 'Placido_Domingo', 'Kiki_Vandeweghe', 'Diane_Ladd', 'Boris_Becker', 'Mel_Gibson', 'John_Rowland', 'Natalie_Imbruglia', 'Bart_Freundlich', 'Ashton_Kutcher', 'Terrell_Suggs', 'Joy_Bryant', 'Junichi_Inamoto', 'Micky_Ward', 'Kenny_Brack', 'John_Ashcroft', 'Gary_Locke', 'Paul_Wolfowitz', 'Mike_Johanns', 'Katherine_Harris', 'Mark_Geragos', 'Ariel_Sharon', 'Meg_Wakeman', 'Demi_Moore', 'Karol_Kucera', 'Hamad_Bin_Isa_al-Khalifa', 'Lois_Smart', 'Percy_Gibson', 'John_Madden', 'Mark_Foley', 'Meles_Zenawi', 'Bob_Menendez', 'Antonio_Elias_Saca', 'Carolina_Barco', 'Constance_Marie', 'Clifford_Robinson', 'David_Bisbal', 'E_Clay_Shaw', 'Steve_Waugh', 'Antonio_Banderas', 'Trevor_McDonald', 'Carlos_Arroyo', 'Daryl_Sabara', 'Jeri_Ryan', 'Roy_Rogers', 'Johnny_Depp', 'Ray_Evernham', 'Hermann_Maier', 'Brad_Johnson', 'Ellen_DeGeneres', 'Dan_Morales', 'Rand_Miller', 'Oliver_Phelps', 'Tom_Sizemore', 'Chanda_Rubin', 'Vitali_Klitschko', 'Robert_Blake', 'Jeffrey_Archer', 'Cheryl_Hines', 'Joanna_Poitier', 'Carson_Daly', 'Sourav_Ganguly', 'John_Paul_II', 'Brad_Russ', 'Richie_Adubato', 'Jennette_Bradley', 'Anjum_Hussain', 'Charlotte_Church', 'Jaromir_Jagr', 'Juan_Pablo_Montoya', 'Shane_Reynolds', 'Jose_Woldenberg', 'Jim_Ryan', 'Flavia_Delaroli', 'Alex_Penelas', 'Charles_Mathews', 'Billy_Graham', 'Tung_Chee-hwa', 'Carmen_Electra', 'Tim_Floyd', 'Jamir_Miller', 'Paul_Wellstone', 'Glen_Sather', 'Danny_Morgan', 'Jose_Carlo_Fernandez', 'Jerry_Jones', 'Rachel_Kempson', 'Mitzi_Gaynor', 'Francisco_Garcia', 'George_Ryan', 'Don_Henley', 'Julian_Fantino', 'Qais_al-Kazali', 'Laura_Schlessinger', 'Larry_Flynt', 'Evander_Holyfield', 'Antonio_Trillanes', 'Robert_De_Niro', 'Tommy_Franks', 'Amy_Cotton', 'Tom_Daschle', 'Sarah_Jessica_Parker', 'Dave_Williams', 'Patti_Labelle', 'Billy_Boyd', 'Claude_Jorda', 'Wesley_Clark', 'Liu_Xiaoqing', 'Aitor_Gonzalez', 'Keiko_Sofia_Fujimori', 'Krishna_Bhadur_Mahara', 'Koichi_Tanaka', 'Catherine_Deneuve', 'Maria_Callas', 'Robbie_Coltrane', 'Joseph_Deiss', 'George_Roy_Hill', 'Chea_Sophara', 'Steve_Coogan', 'Kristin_Scott', 'Ilan_Goldfajn', 'Jim_Bollman', 'Caroline_Kennedy', 'Angela_Bassett', 'Prince_Harry', 'Oracene_Williams', 'Beyonce_Knowles', 'Bo_Pelini', 'Jeff_Van_Gundy', 'Scott_McNealy', 'Dominik_Hrbaty', 'Frank_Coraci', 'Bernard_Giraudeau', 'Ibrahim_Al-Marashi', 'Byron_Scott', 'Jim_Furyk', 'Hugo_Conte', 'John_Ferguson', 'Luis_Fonsi', 'Cathy_Freeman', 'Andrei_Nikolishin', 'Carlton_Dotson', 'Adrian_Nastase', 'Ernie_Eves', 'Pete_Carroll', 'Debbie_Reynolds', 'Michael_J_Fox', 'Pernilla_Bjorn', 'Pascal_Rheaume', 'Jennifer_Connelly', 'Martin_Verkerk', 'Robert_F_Kennedy_Jr', 'Pedro_Malan', 'Tom_Poston', 'Frank_Schmoekel', 'Sun_Myung_Moon', 'Peter_Schultz', 'Bill_Stein', 'Barbora_Strycova', 'Jeane_Kirkpatrick', 'Sharon_Osbourne', 'Edward_Lu', 'Ingrid_Betancourt', 'Jerry_Tarkanian', 'Thomas_Rupprath', 'Gustavo_Noboa', 'Brandon_Hammond', 'Mona_Locke', 'Christoph_Daum', 'Chandrika_Kumaratunga', 'Robinson_Stevenin', 'Sergei_Yushenkov', 'Frank_Lautenberg', 'Steve_Redgrave', 'Gonzalo_Sanchez_de_Lozada', 'Matt_Dillon', 'Sureyya_Ayhan', 'Saburo_Kawabuchi', 'Jessica_Capshaw', 'Lisa_Marie_Presley', 'Dirk_Kempthorne', 'Nikolay_Davydenko', 'John_Marburger', 'Liu_Ye', 'Michael_Bolton', 'Gerard_Kleisterlee', 'Jim_Calhoun', 'Miyako_Miyazaki', 'Maurice_Cheeks', 'Benjamin_Martinez', 'John_Bolton', 'Ed_Rosenthal', 'Harvey_Weinstein', 'Mohamed_Hammam', 'Anita_DeFrantz', 'Ringo_Starr', 'Todd_Petit', 'Li_Ruihuan', 'Gary_Carter', 'Harvey_Wachsman', 'Julio_Cesar_Chavez', 'Mike_Leach', 'Lawrence_MacAulay', 'Rick_Stansbury', 'Terry_Gilliam', 'Mesut_Yilmaz', 'Raja_Zafar-ul-Haq', 'John_Henry', 'Prince_Edward', 'Frank_Abagnale_Jr', 'Thaksin_Shinawatra', 'Taufik_Hidayat', 'Rick_Rickert', 'Cristian_Barros', 'Nelson_Acosta', 'Julien_Boutter', 'John_Lynch', 'Ari_Fleischer', 'Adrian_Fernandez', 'Lee_Yuan-tseh', 'Shoshannah_Stern', 'Mian_Khursheed_Mehmood_Kasuri', 'Peter_Goldmark', 'TJ_Ford', 'Robert_Kocharian', 'Gustavo_Franco', 'Coleen_Rowley', 'Roger_Toussaint', 'Richard_Virenque', 'Oscar_Elias_Biscet', 'Jeannette_Biedermann', 'Larry_Thompson', 'David_Canary', 'Nigel_Redden', 'Guy_Hemmings', 'Stephanie_Zimbalist', 'Shi_Guangsheng', 'Evgeni_Plushenko', 'Brooke_Shields', 'Robby_Ginepri', 'Colleen_Atwood', 'Mohamed_Benaissa', 'Todd_Haynes', 'Nathalie_Baye', 'Joe_Gatti', 'Oscar_De_La_Hoya', 'Lyle_Vanclief', 'Paula_Prentiss', 'Ron_Kirk', 'William_Bratton', 'Edward_Albee', 'Christopher_Walken', 'Russell_Coutts', 'Pat_Riley', 'Zhong_Nanshan', 'Catherine_Bell', 'Noel_Forgeard', 'Steve_Largent', 'Matt_Morris', 'Richard_Chamberlain', 'Georgi_Parvanov', 'Albert_Costa', 'Al_Sharpton', 'Boris_Trajkovski', 'Misty_Dawn_Clymer', 'John_Kerry', 'Yu_Shyi-kun', 'Kellie_Coffey', 'Ronald_Reagan', 'Donald_Keck', 'Joe_Nichols', 'Debra_Messing', 'Jean-Rene_Fourtou', 'Romain_Duris', 'Raoul_Ruiz', 'Walter_Mondale', 'Jean-Claude_Van_Damme', 'Rudi_Voeller', 'Norodom_Sihanouk', 'Mona_Rishmawi', 'Charles_Schumer', 'Dominick_Dunne', 'Alex_Barros', 'Barry_Bonds', 'James_Sensenbrenner', 'Roy_Jones_Jr', 'Herman_Edwards', 'Patrick_Roy', 'Princess_Victoria', 'Chris_Byrd', 'Jack_Welch', 'Lee_Baca', 'Gerald_Ford', 'Helen_Clark', 'Dennis_Erickson', 'Franz_Fischler', 'David_Hyde_Pierce', 'Scott_Wolf', 'Sam_Brownback', 'Samuel_Waksal', 'Alejandro_Toledo', 'Steve_Allee', 'Alvaro_Silva_Calderon', 'Tim_Howard', 'Randy_Dryer', 'Richard_Hamilton', 'Jamie_Dimon', 'David_Brinkley', 'Dereck_Whittenburg', 'Jim_Edmonds', 'David_McCullough', 'Wycliffe_Grousbeck', 'Ryan_Leaf', 'Paul_McCartney', 'John_Norquist', 'Arnold_Schwarzenegger', 'Lubomir_Zaoralek', 'Prince_Naruhito', 'David_Stern', 'Brian_Cashman', 'Pedro_Almodovar', 'Peter_OToole', 'Julia_Glass', 'Ed_Sullivan', 'Sandra_Milo', 'Donald_Pettit', 'David_Scott_Morris', 'JK_Rowling', 'Nicola_Wells', 'Grant_Rossenmeyer', 'Munir_Akram', 'Antonio_Palocci', 'Fabiola_Zuluaga', 'John_Tyson', 'Andrew_Fastow', 'Evan_Marriott', 'Lech_Walesa', 'Rupert_Murdoch', 'Ralph_Sampson', 'Robert_Ehrlich', 'Ruben_Studdard', 'Ryan_Goodman', 'Carolina_Kluft', 'Carl_Reiner', 'Marisa_Tomei', 'Momir_Nikolic', 'Connie_Freydell', 'Juan_Roman_Carrasco', 'John_Stallworth', 'Carol_Burnett', 'Angela_Alvarado_Rosa', 'Haydar_Aliyev', 'Keith_Van_Horn', 'Bernard_Law', 'Xanana_Gusmao', 'Rodney_Dangerfield', 'Edward_Greenspan', 'Felipe_Perez_Roque', 'Norman_Mineta', 'JJ_Redick', 'Bill_Readdy', 'Joaquin_Phoenix', 'Rick_Reed', 'Zorica_Radovic', 'William_Jackson', 'Luc_Montagnier', 'Brandon_Knight', 'Christian_Wulff', 'Bruce_Weber', 'Doris_Schroeder', 'Fidel_Castro', 'Bernardo_Segura', 'Paige_Fitzgerald', 'Roberto_Benigni', 'William_Rosenberg', 'Jerome_Golmard', 'Alexandre_Daigle', 'Tony_Parker', 'Phil_Gramm', 'Claire_Leger', 'Michael_Kostelnik', 'Edie_Falco', 'Mike_Alden', 'Roman_Coppola', 'Fayssal_Mekdad', 'Michel_Duclos', 'Paul_Martin', 'Hanan_Ashrawi', 'Marissa_Jaret_Winokur', 'Gretchen_Mol', 'Branko_Crvenkovski', 'Yoshiyuki_Kamei', 'Gene_Sauers', 'Anneli_Jaatteenmaki', 'Jan_Peter_Balkenende', 'Eric_Hinske', 'Bob_Dole', 'Ronald_Kadish', 'Val_Ackerman', 'Romeo_Gigli', 'Jennifer_Tilly', 'Brian_Olson', 'Marieta_Chrousala', 'Martin_Sheen', 'Mike_Samp', 'James_Wattana', 'Celso_Amorim', 'Nia_Vardalos', 'Susie_Castillo', 'Justin_Gatlin', 'Maria_Simon', 'Enos_Slaughter', 'Roy_Moore', 'Vagit_Alekperov', 'John_Gruden', 'Kaspar_Villiger', 'Cheryl_Ford', 'Sammy_Sosa', 'Bob_Holden', 'Ana_Guevara', 'Hilmi_Ozkok', 'Zinedine_Zidane', 'Astrid_Betancourt', 'Jim_Haslett', 'Jerry_Falwell', 'Scott_Rolen', 'Kajsa_Bergqvist', 'Jeremy_Wotherspoon', 'Nick_Cassavetes', 'Mary_Blige', 'Wanda_de_la_Jesus', 'Jim_Leach', 'Brian_Billick', 'Mario_Cipollini', 'Omar_Sharif', 'Serena_Williams', 'Christina_Aguilera', 'Yashwant_Sinha', 'Elvis_Costello', 'Barry_Williams', 'Terry_Stotts', 'Derek_Jeter', 'Dan_Reeves', 'Eric_Idle', 'John_Howard', 'Cesar_Gaviria', 'Shawn_Bradley', 'David_Heyman', 'Eva_Mendes', 'Faisal_Saleh_Hayat', 'Laura_Bush', 'Juan_Carlos_Ferrero', 'Kelly_Osbourne', 'Edward_Seaga', 'Serge_Klarsfeld', 'Ray_Romano', 'Jim_Hendry', 'Kate_Lee', 'Bill_Herrion', 'Cherie_Blair', 'Steven_Curtis_Chapman', 'Troy_Aikman', 'Allen_Iverson', 'Ruben_Sierra', 'Jack_Nicholson', 'Jane_Russell', 'William_Ford_Jr', 'Jennifer_Granholm', 'Darrell_Royal', 'Paul_Burrell', 'Paul_Shanley', 'Jan_Bjoerklund', 'Andy_Bryant', 'Jimmy_Gobble', 'Shane_Warne', 'Sylvester_Stallone', 'Elmar_Brok', 'Patty_Duke', 'Damon_van_Dam', 'Dario_Franchitti', 'Douglas_Gansler', 'Rani_Mukherjee', 'Wang_Yi', 'Giuseppe_Morchio', 'Juan_Roman_Riquelme', 'Rita_Moreno', 'Ricardo_Maduro', 'Brad_Gushue', 'Kate_Winslet', 'Prince_Felipe', 'John_Mayer', 'Jose_Mourinho', 'Edmund_Stoiber', 'Jason_Priestley', 'Edgar_Savisaar', 'Leticia_Dolera', 'Daniel_Montenegro', 'Gao_Qiang', 'Akhmed_Zakayev', 'Zeljko_Rebraca', 'Todd_MacCulloch', 'Michelle_Bachelet', 'Koji_Uehara', 'Natasha_McElhone', 'Wally_Szczerbiak', 'Francis_George', 'Brenda_van_Dam', 'Jimmy_Carter', 'Frederique_van_der_Wal', 'Eunice_Barber', 'Nicklas_Lidstrom', 'Nicholas_Tse', 'Mehmet_Ali_Sahin', 'Carlos_Moya', 'Dennis_Powell', 'Carlos_Vives', 'George_Voinovich', 'Bob_Riley', 'Suzanne_Somers', 'Grady_Little', 'Mira_Sorvino', 'Luis_Figo', 'Chick_Hearn', 'Prakash_Hinduja', 'Tyrone_Medley', 'Gina_Centrello', 'Herb_Sendek', 'Danny_Glover', 'Mary_Elizabeth_Mastrantonio', 'Lori_Berenson', 'John_McCain', 'Hank_McKinnell', 'Terry_McAuliffe', 'Bixente_LIzarazu', 'Hugo_Colace', 'Jodie_Foster', 'Tara_Dawn_Christensen', 'Caroline_Dhavernas', 'Eliza_Dushku', 'Brian_Lara', 'Fujio_Cho', 'Bill_Gates', 'Miranda_Gaddis', 'Christine_Arron', 'Mike_Carona', 'Mike_Sherman', 'Kurt_Warner', 'Diego_Colorado', 'John_F_Kennedy_Jr', 'Alfredo_Moreno', 'Abdel_Aziz_Al-Hakim', 'Giannina_Facio', 'Maribel_Dominguez', 'Brandon_Webb', 'Bill_Sizemore', 'Quin_Snyder', 'German_Khan', 'Cecilia_Bolocco', 'Jeff_George', 'Afton_Smith', 'Jeb_Bush', 'Bob_Hartley', 'Gerry_Adams', 'Gary_Sayler', 'Brian_Heidik', 'Wang_Yingfan', 'Harry_Belafonte', 'Morris_Dees', 'Lili_Taylor', 'Melanie_Griffith', 'Johnny_Hallyday', 'Nawabzada_Nasrullah_Khan', 'Sara_Silverman', 'Gregorio_Honasan', 'Nan_Wang', 'Joaquim_Levy', 'Kathleen_Abernathy', 'Vojislav_Seselj', 'Ralph_Firman', 'Larry_Lindsey', 'Sonya_Walger', 'Martin_ONeill', 'George_Galloway', 'Michael_Kors', 'Amber_Tamblyn', 'Tim_Chapman', 'Juergen_Trittin', 'Hugh_Jessiman', 'Melissa_Stark', 'Ratna_Sari_Dewi_Sukarno', 'Andy_Dick', 'Lena_Katina', 'Joschka_Fischer', 'John_Cusack', 'Chan_Ho_Park', 'Gerald_Fitch', 'Andres_DAlessandro', 'Dick_Smothers', 'Jon_Gruden', 'Michael_Rolinee', 'Andy_Warhol', 'Diana_Krall', 'Ahmed_Qureia', 'Jose_Vicente_Rangel', 'Eduardo_Romero', 'Vladimir_Putin', 'Tatiana_Panova', 'Fujio_Mitarai', 'Colin_Montgomerie', 'Inam-ul-Haq', 'Andre_Bucher', 'Nicolas_Lapentti', 'Michael_Winterbottom', 'Kent_Rominger', 'Sid_Caesar', 'Queen_Rania', 'Sharon_Stone', 'Joseph_Blatter', 'Bernard_Landry', 'Qian_Qichen', 'Fernando_Hierro', 'Ellen_Saracini', 'Princess_Aiko', 'Elena_Tihomirova', 'Kristanna_Loken', 'Vincent_Sombrotto', 'Colin_Cowie', 'Stephane_Delajoux', 'Tab_Baldwin', 'Jose_Jose', 'Mickey_Sherman', 'Filippo_Volandri', 'Abdoulaye_Wade', 'Toutai_Kefu', 'Gabrielle_Rose', 'John_Prescott', 'Chris_Rock', 'Brook_Robinson', 'Elisabeth_Welch', 'Julianne_Moore', 'Butch_Davis', 'Vyacheslav_Fetisov', 'Patti_Balgojevich', 'Robert_Nardelli', 'Paul-Henri_Mathieu', 'Craig_David', 'Martin_Short', 'Mary_Tyler_Moore', 'Rudolf_Schuster', 'Billy_Gilman', 'Hanns_Schumacher', 'Shirley_Jones', 'Mickey_Gilley', 'Steve_McManaman', 'Chan_Gailey', 'Margaret_Thatcher', 'Kurt_Schottenheimer', 'Patricia_Hearst', 'Billy_Beane', 'Zhang_Yimou', 'Jesse_Harris', 'Raquel_Welch', 'Zhang_Wenkang', 'Steve_Karsay', 'Sheila_Taormina', 'Don_Siegelman', 'Charles_Tannok', 'Du_Qinglin', 'Antanas_Valionis', 'Nicolas_Escude', 'Pedro_Pauleta', 'Terje_Roed-Larsen', 'Rachel_Hunter', 'Robin_Wright_Penn', 'Milt_Heflin', 'Carlos_Salinas', 'Donald_Trump', 'Rainer_Schuettler', 'Oswald_Gruebel', 'Anthony_LaPaglia', 'Stephen_Daldry', 'Owen_Nolan', 'Floyd_Keith', 'Rod_Paige', 'Geovani_Lapentti', 'Nathan_Lane', 'Shoshana_Johnson', 'Gianni_Agnelli', 'Uday_Hussein', 'Mel_Karmazin', 'Charlie_Sheen', 'Howard_Schultz', 'Richard_Cohen', 'Elena_Dementieva', 'Ahmet_Demir', 'Sachiko_Yamada', 'Solomon_Passy', 'Bobby_Jackson', 'Goran_Persson', 'Toni_Braxton', 'Bill_Kollar', 'Diego_Diego_Lerman', 'Jose_Canseco', 'Chris_Cooper', 'Chip_Knight', 'Bruce_Springsteen', 'Bernadette_Peters', 'Patrick_McEnroe', 'Heath_Ledger', 'Uma_Thurman', 'Abid_Hamid_Mahmud_Al-Tikriti', 'Linda_Lingle', 'Cliff_Ellis', 'Peri_Gilpin', 'Reggie_Miller', 'William_Hurt', 'Kay_Bailey_Hutchison', 'Tatiana_Kennedy_Schlossberg', 'Pierce_Brosnan', 'Brad_Brownell', 'Alanna_Ubach', 'Patrick_Ewing', 'Natalie_Williams', 'Augusto_Roa_Bastos', 'Ian_Moran', 'Leon_Lai', 'Mark_Everson', 'Sylvie_Guillem', 'Ronde_Barber', 'Barry_Alvarez', 'Rich_Gannon', 'Anthony_Ervin', 'Jeremy_Greenstock', 'Joe_Dumars', 'Larry_Beinfest', 'Mehdi_Baala', 'Richard_Krajicek', 'Jose_Theodore', 'Rich_Brooks', 'Hama_Arba_Diallo', 'Hitomi_Soga', 'Queen_Beatrix', 'Franko_Simatovic', 'Rachel_Roy', 'Jim_Parque', 'Duane_Lee_Chapman', 'Eriko_Tamura', 'Leslie_Caldwell', 'Matt_Damon', 'Mike_Eskew', 'Aaron_Guiel', 'Lachlan_Murdoch', 'Brajesh_Mishra', 'Alberto_Ruiz_Gallardon', 'Bridget_Fonda', 'Ali_Khamenei', 'Nancy_Sinatra', 'Phillipe_Comtois', 'Reese_Witherspoon', 'Jorge_Moreno', 'Yang_Jianli', 'Gerry_Kelly', 'Suzie_McConnell_Serio', 'Hans_Blix', 'Fernando_Valenzuela', 'Sheryl_Crow', 'Cedric_Benson', 'Bernard_Lord', 'Ray_Liotta', 'Jonathan_Arden', 'Teri_Garr', 'John_Garamendi', 'Candice_Bergen', 'Michael_Haneke', 'Phil_Bredesen', 'Cameron_Diaz', 'Bill_Richardson', 'Eliott_Spitzer', 'Emmit_Smith', 'David_Carradine', 'Jim_Tressel', 'Tim_Conway', 'Graeme_Smith', 'Jacques_Chirac', 'Leszek_Miller', 'Bryan_Adams', 'Grant_Hackett', 'Antonio_Cassano', 'William_Shatner', 'Barry_Diller', 'Elinor_Caplan', 'Patricia_Clarkson', 'John_Edwards', 'Marie-Josee_Croze', 'Tiger_Woods', 'Latrell_Sprewell', 'Pamela_Anderson', 'Chuck_Yeager', 'Shawn_Marion', 'Norm_Macdonald', 'Amy_Pascal', 'Keith_Olbermann', 'Jay_Leno', 'Terence_Newman', 'Omar_Vizquel', 'William_Rehnquist', 'Minnie_Driver', 'Michelle_Yeoh', 'Regina_Ip', 'Yolanda_King', 'Miguel_Contreras', 'Emma_Watson', 'Darrell_Issa', 'Giuseppe_Gibilisco', 'Claudia_Cardinale', 'Coco_dEste', 'Roman_Polanski', 'Brandon_Boyd', 'Maggie_Smith', 'Leander_Paes', 'Patrice_Chereau', 'Nida_Blanca', 'Heidi_Klum', 'Jim_Carrey', 'Jean-David_Levitte', 'Marianne_Stanley', 'Greg_Ostertag', 'Anzori_Kikalishvili', 'Jewel_Howard-Taylor', 'Justin_Timberlake', 'Ricky_Martin', 'Rita_Wilson', 'Joxel_Garcia', 'Hilary_McKay', 'Dick_Clark', 'Patricia_Wartusch', 'Arif_Mardin', 'Arlen_Specter', 'Robert_Stack', 'Peter_Lundgren', 'Sven_Goran_Eriksson', 'Phillip_Seymor_Hoffmann', 'Nelson_Mandela', 'Zhu_Rongji', 'Morgan_Freeman', 'Alessandro_Nesta', 'Pierre_Van_Hooijdonk', 'Alex_Sink', 'Daniel_Patrick_Moynihan', 'Marcelo_Ebrard', 'Celine_Dion', 'Teddy_Kollek', 'Grady_Irvin_Jr', 'Brad_Garrett', 'Christine_Ebersole', 'Barbara_Brezigar', 'Jean-Luc_Bideau', 'Rob_Niedermayer', 'Bob_Krueger', 'Fernando_Alonso', 'Laurence_Tribe', 'Janine_Pietsch', 'Beatrice_Dalle', 'Hugo_Chavez', 'Paul_Murphy', 'Tracy_Wyle', 'Jada_Pinkett_Smith', 'Jim_Jeffords', 'William_Nessen', 'Billy_Bob_Thornton', 'Michel_Temer', 'Wolfgang_Schuessel', 'Laura_Linney', 'Sandra_Ceccarelli', 'Yuri_Malenchenko', 'Tommy_Maddox', 'Erin_Hershey_Presley', 'Jackie_Dennis', 'Roy_Romanow', 'Olene_Walker', 'Alexander_Downer', 'Jesper_Parnevik', 'Paul_Vathis', 'Rolandas_Paksas', 'Lena_Olin', 'Atsushi_Sato', 'Sidney_Kimmel', 'Jon_Corzine', 'Michael_Dell', 'Federico_Trillo', 'Spencer_Abraham', 'Hashim_Thaci', 'Biljana_Plavsic', 'Catherine_Zeta-Jones', 'Sheila_Fraser', 'Gina_Gershon', 'Adam_Sandler', 'Corinna_Harfouch', 'Lorraine_Bracco', 'Amelie_Mauresmo', 'Robert_Morvillo', 'Harrison_Ford', 'Elsa_Zylberstein', 'Peter_Caruana', 'Katie_Holmes', 'Johnson_Panjaitan', 'Pyar_Jung_Thapa', 'Bob_Geldof', 'Ahmet_Necdet_Sezer', 'Ralph_Goodale', 'Scott_Hoch', 'Robert_Zoellick', 'Stephan_Eberharter', 'Angela_Merkel', 'Ben_Affleck', 'Ted_Williams', 'Mario_Lobo_Zagallo', 'Hana_Makhmalbaf', 'Bulent_Ecevit', 'Renee_Zellweger', 'Kurt_Budke', 'Paul_Newman', 'Gloria_Macapagal_Arroyo', 'Sheldon_Silver', 'Imam_Samudra', 'John_Abizaid', 'Nicanor_Duarte_Frutos', 'Shaun_Pollock', 'Yannos_Papantoniou', 'Tim_Henman', 'Greg_Rusedski', 'Martha_Lucia_Ramirez', 'Ambrose_Lee', 'Azmi_Bishara', 'David_Zeplowitz', 'Stephen_Webster', 'Colin_Powell', 'Billy_Sollie', 'Marc_Racicot', 'Howard_Wilkinson', 'Boris_Jordan', 'Charles_Bronson', 'Pierre_Boulanger', 'Casey_Mears', 'Halle_Berry', 'Josh_Childress', 'Kenneth_Carlsen', 'Zydrunas_Ilgauskas', 'Mark_Butcher', 'Vladimir_Golovlyov', 'Debra_Shank', 'Odai_Hussein', 'Sidney_Poitier', 'Ruth_Bader_Ginsburg', 'Mahathir_Mohamad', 'Scott_Peterson', 'Danny_Ainge', 'Augustin_Calleri', 'Matt_Welsh', 'Jean_Chretien', 'Andrew_Niccol', 'Noah_Wyle', 'Larry_Ellison', 'Terunobu_Maeda', 'Christian_Lacroix', 'Lucy_Liu', 'Joseph_Kabila', 'Janusz_Kaminski', 'Chita_Rivera', 'Stephanie_Cohen_Aloro', 'Hideki_Matsui', 'Abdel_Nasser_Assidi', 'Gary_Bauer', 'Ricardo_Sanchez', 'John_Jumper', 'Natalie_Cole', 'Don_Matthews', 'Stacey_Jones', 'Muhammad_Ali', 'David_Wells', 'Jason_Lezak', 'George_Robertson', 'Saddam_Hussein', 'Elvis_Stojko', 'Mae_Jemison', 'Darren_Clarke', 'Bing_Crosby', 'Bob_Sulkin', 'Patrick_Bourrat', 'Ted_Washington', 'Shaukat_Aziz', 'Gerhard_Schroeder', 'Oxana_Fedorova', 'Ellen_Engleman', 'Matt_Anderson', 'Jeanne_Moreau', 'Roman_Tam', 'Alexander_Lukashenko', 'Brendan_Gaughan', 'Sophia_Loren', 'Sue_Grafton', 'Gustavo_Cisneros', 'Masao_Azuma', 'Courtney_Love', 'Hans_Peter_Briegel', 'Sean_Patrick_OMalley', 'Jose_Dirceu', 'Ben_Chandler', 'Michael_Goldrich', 'Louis_Van_Gaal', 'James_Traficant', 'Santiago_Botero', 'Scott_Weiland', 'Joan_Laporta', 'Hitoshi_Tanaka', 'James_Barksdale', 'Philippe_Noiret', 'Zoe_Ball', 'Silvio_Berlusconi', 'Carly_Fiorina', 'Anna_Kournikova', 'Antonio_Catania', 'Ernie_Stewart', 'King_Gyanendra', 'Andrew_Weissmann', 'Saeed_Anwar', 'Jason_Petty', 'Jesse_Jackson', 'Adam_Rich', 'Lee_Tae-sik', 'Donald_Keyser', 'Tony_LaRussa', 'Patricia_Heaton', 'Valentino_Rossi', 'Chris_Neil', 'Khatol_Mohammad_Zai', 'Osama_bin_Laden', 'Lynn_Redgrave', 'Eileen_Coparropa', 'Garry_McCoy', 'Donatella_Versace', 'Mahmoud_Abbas', 'James_Gibson', 'Michael_Patrick_King', 'Scott_OGrady', 'Michael_Chang', 'Ronaldo_Luis_Nazario_de_Lima', 'Horacio_Julio_Pina', 'Randall_Tobias', 'Marty_Mornhinweg', 'Luiz_Inacio_Lula_da_Silva', 'Normand_Legault', 'Columba_Bush', 'Holly_Robinson_Peete', 'Patti_Smith', 'Eli_Broad', 'Ismail_Merchant', 'Taoufik_Mathlouthi', 'Kim_Clijsters', 'Pete_Sampras', 'Zurab_Tsereteli', 'David_Caraway', 'Fernando_Gonzalez', 'Jules_Asner', 'Frank_Pallone', 'Eric_Bana', 'Mario_Kreutzberger', 'Brendan_Hansen', 'Lee_Hoi-chang', 'Bianca_Jagger', 'Tom_Craddick', 'Matthew_Vaughan', 'Mufti_Mohammad_Syed', 'Elizabeth_Shue', 'Al_Pacino', 'Mark_Hogan', 'Mathias_Reichhold', 'Marsha_Thomason', 'Sally_Kirkland', 'Joe_Strummer', 'Dennis_Kucinich', 'Enrique_Bolanos', 'Eddie_Sutton', 'Prince_Rainier_III', 'Gracia_Burnham', 'Andrew_Cuomo', 'Maria_Luisa_Mendonca', 'William_Hyde', 'Parthiv_Patel', 'Steve_Peace', 'Luiz_Felipe_Scolari', 'Juan_Antonio_Samaranch', 'Randy_Johnson', 'Jeff_Bzdelik', 'Juljia_Vysotskij', 'Hank_Azaria', 'Thomas_Watjen', 'Kaisser_Bazan', 'Ben_Howland', 'Alicia_Witt', 'Sam_Torrance', 'Kevin_James', 'Nicolas_Macrozonaris', 'Mary_Sue_Coleman', 'Richard_Pennington', 'Chris_Pronger', 'Kaoru_Hasuike', 'Nona_Gaye', 'Kenny_Chesney', 'Elena_Likhovtseva', 'Erika_Christensen', 'Tino_Martinez', 'Dimitar_Berbatov', 'Phil_Vassar', 'Stephen_Friedman', 'Roberto_Lavagna', 'Andrei_Konchalovsky', 'Prince_William', 'Pieter_Bouw', 'Kevin_Sorbo', 'James_Hallock', 'Isidro_Pastor', 'Natalie_Stewart', 'Barbara_Boxer', 'Liu_Mingkang', 'Sok_An', 'Satnarine_Sharma', 'Michael_Moore', 'Mitchell_Swartz', 'Igor_Ivanov', 'Barry_Collier', 'Tony_Fernandes', 'Moshe_Katsav', 'Mick_Jagger', 'Luis_Gonzalez', 'Raf_Vallone', 'Aaron_Sorkin', 'Anthony_Fauci', 'Mike_Tice', 'Retief_Goosen', 'Lydia_Shum', 'Johnny_Unitas', 'Stephane_Rousseau', 'Mauricio_Pochetino', 'David_Dodge', 'Curtis_Strange', 'Ben_Cahoon', 'Norman_Mailer', 'Richard_Myers', 'Joan_Jett', 'Dai_Bachtiar', 'Vivica_Fox', 'Chyung_Dai-chul', 'Daryl_Hannah', 'Derrick_Battie', 'Ben_Kingsley', 'Ilie_Nastase', 'Kevin_Costner', 'Graciano_Rocchigiani', 'Dino_de_Laurentis', 'Tina_Andrews', 'Cecilia_Cheung', 'Jessica_Biel', 'Klaus_Zwickel', 'Victor_Garber', 'Fabian_Vargas', 'Saparmurat_Niyazov', 'Asa_Hutchinson', 'Dino_Risi', 'Stella_McCartney', 'Dustin_Hoffman', 'Vaclav_Havel', 'Marion_Fahnestock', 'Thomas_Mesereau_Jr', 'Javier_Bardem', 'Carla_Del_Ponte', 'Tracy_McGrady', 'Thabo_Mbeki', 'Billy_Crystal', 'Kjell_Magne_Bondevik', 'Stacey_Dales-Schuman', 'AJ_Lamas', 'Carla_Gugino', 'Dalai_Lama', 'James_Ivory', 'Susan_Collins', 'Peter_Greenaway', 'Bilal_Erdogan', 'Alfonso_Portillo', 'Danny_Green', 'Makhdoom_Amin_Fahim', 'Christine_Baumgartner', 'Paula_Zahn', 'Paul_Schrader', 'Sue_Wicks', 'Nuon_Chea', 'Martha_Beatriz_Roque', 'Goldie_Hawn', 'Kirk_Johnson', 'Marc_Anthony', 'Albert_Brooks', 'Maria_Shriver', 'Robert_Bonner', 'Bartosz_Kizierowski', 'Tom_Smothers', 'Paris_Hilton', 'Joshua_Gracin', 'Sterling_Hitchcock', 'Tabare_Vazquez', 'Bill_OReilly', 'Garth_Drabinsky', 'Mary_Lou_Retton', 'Todd_Parrott', 'Jim_Harrick', 'Jennifer_Rodriguez', 'Jerry_Seinfeld', 'Mitch_Kupchak', 'Cari_Davis', 'Nicole', 'John_Danforth', 'Joan_Collins', 'Robin_McLaurin_Williams', 'Penelope_Ann_Miller', 'Sean_Hayes', 'Ana_Palacio', 'Justin_Guarini', 'Yasar_Yakis', 'Lindsay_Lohan', 'Shane_Mosley', 'Rick_Husband', 'Saoud_Al_Faisal', 'Hee-Won_Han', 'Sam_Bith', 'Oprah_Winfrey', 'Geoff_Hoon', 'Robert_Durst', 'Gloria_Trevi', 'Howard_Dean', 'Paul_Clark', 'Karin_Stoiber', 'Rubens_Barrichello', 'Joe_Torre', 'Drew_Gooden', 'Frank_Taylor', 'Emmanuelle_Beart', 'Rosie_Perez', 'Lene_Espersen', 'Jeffrey_Jones', 'Landon_Donovan', 'Bob_Iger', 'Gwyneth_Paltrow', 'Simon_Yam', 'Benazir_Bhutto', 'George_Lopez', 'Ranil_Wickremasinghe', 'Elena_Bereznaya', 'Sushma_Swaraj', 'Paula_Dobriansky', 'Linda_Mason', 'Federico_Castelan_Sayre', 'Heidi_Fleiss', 'Gavin_Degraw', 'Brian_Mulroney', 'Annie_Chaplin', 'Amram_Mitzna', 'Elizabeth_Hurley', 'Yoriko_Kawaguchi', 'Jose_Manuel_Durao_Barroso', 'Gene_Robinson', 'Annette_Lu', 'Rudolph_Holton', 'Allan_Houston', 'James_Murdoch', 'Frank_Stallone', 'Bob_Beauprez', 'Roh_Moo-hyun', 'Marta_Dominguz', 'Lleyton_Hewitt', 'Gary_Sinise', 'Tom_DeLay', 'George_W_Bush', 'Allyson_Felix', 'Iain_Duncan_Smith', 'Benicio_Del_Toro', 'Doris_Roberts', 'Yossi_Beilin', 'Justin_Wilson', 'Kemal_Dervis', 'Sadie_Frost', 'Tim_Allen', 'Will_Smith', 'Allison_Janney', 'Donald_Regan', 'Enrik_Vendt', 'Yukio_Hatoyama', 'John_Paul_DeJoria', 'Kimora_Lee', 'Monica_Lewinsky', 'Thomas_Fargo', 'Job_Cohen', 'Shia_LaBeouf', 'Heizo_Takenaka', 'Vince_Carter', 'Anibal_Ibarra', 'Paul_Tracy', 'Larry_Bowa', 'Suzanne_Mubarak', 'Richard_Crenna', 'Lincoln_Chafee', 'Hal_Sutton', 'Erik_Morales', 'Adam_Kennedy', 'Chakib_Khelil', 'Kurt_Russell', 'Pablo_Latras', 'Alfredo_Pena', 'Roger_Machado', 'Rick_Caruso', 'Gina_Lollobrigida', 'Petro_Symonenko', 'Alex_Cejka', 'Vanessa_Redgrave', 'Jennifer_McCoy', 'Bill_Frist', 'Ron_Howard', 'Kenneth_Brill', 'Nikki_Cascone', 'Martina_McBride', 'Rosemarie_Stack', 'Teresa_Graves', 'Pat_Burns', 'Steve_Nash', 'William_Donaldson', 'Brandon_Inge', 'David_Spade', 'Brett_Hawke', 'Gilles_Panizzi', 'Angelo_Reyes', 'Bruce_Willis', 'Lee_Chang-dong', 'Ali_Bin_Hussein', 'Tony_Curtis', 'Chris_Penn', 'Mstislav_Rostropovich', 'Anne_Heche', 'Sereyvuth_Kem', 'Rick_Perry', 'Tim_Curry', 'Mario_Jardel', 'Valerie_Harper', 'Giancarlo_Fisichella', 'Turner_Gill', 'Tom_McClintock', 'Kate_Burton', 'Joseph_Estrada', 'Edward_Arsenault', 'Ed_Smart', 'Anne_McLellan', 'Fatmir_Limaj', 'Angie_Martinez', 'Chung_Mong-joon', 'Denys_Arcand', 'Denis_Fassou-Nguesso', 'Daryl_Parks', 'Katie_Couric', 'Yao_Ming', 'Laura_Morante', 'Joe_Pantoliano', 'Lou_Piniella', 'Jerry_Rice', 'Zhang_Ziyi', 'Paul_Bettany', 'Brawley_King', 'Sergio_Vieira_De_Mello', 'Claudine_Farrell', 'Terry_Hoeppner', 'Kathryn_Bigelow', 'Claudia_Pechstein', 'Debra_Yang', 'Brooke_Gordon', 'Naomi_Campbell', 'Roger_Clemens', 'Cyndi_Thompson', 'Julia_Tymoshenko', 'Eddie_Jordan', 'Guillermo_Canas', 'Diane_Lane', 'Jesse_Ventura', 'Diego_Armando_Maradona', 'Randy_Travis', 'Patricia_Phillips', 'Wu_Yi', 'Hans_Corell', 'Greg_Owen', 'Felicity_Huffman', 'Lance_Bass', 'Taha_Yassin_Ramadan', 'Guy_Ritchie', 'Hasan_Wirayuda', 'Rick_Pitino', 'Michael_Keaton', 'Mohammad_Khatami', 'John_Travolta', 'Mack_Brown', 'Bertrand_Bonello', 'Nicole_Parker', 'Salman_Rushdie', 'Stacy_Dragila', 'Chistian_Stahl', 'Jack_Straw', 'Steve_Patterson', 'Mark_Swartz', 'Anthony_Pico', 'Robert_Wagner', 'Julio_Cesar_Franco', 'Felix_Mantilla', 'Brett_Boone', 'Will_Young', 'Richard_Parsons', 'Steve_Park', 'Janet_Leigh', 'Pedro_Solbes', 'Lino_Oviedo', 'Steve_Spurrier', 'Peter_Greenspun', 'Sam_Mendes', 'Andy_Roddick', 'Henry_Hyde', 'Gustavo_Kuerten', 'Steven_Feldman', 'Sheila_Copps', 'Johnny_Carson', 'Rodrigo_Rato', 'David_Wolf', 'Gerard_de_Cortanze', 'Adrien_Brody', 'John_Wayne', 'Fabrice_Santoro', 'Gwen_Stefani', 'Vincent_Gallo', 'Robbie_Williams', 'Jorge_Castaneda', 'Sofia_Milos', 'Julie_Goodenough', 'Jose_Luis_Rodriguez_Zapatero', 'Nanni_Moretti', 'Kim_Jin-sun', 'Frank_Griswold', 'Joaquin_Sanchez', 'Guillaume_Soro', 'Magdalena_Maleeva', 'Jenna_Elfman', 'Pauline_Landers', 'Michael_Ballack', 'Rafael_Bielsa', 'Matthias_Sammer', 'Dennis_Johnson', 'Rolf_Eckrodt', 'Judi_Dench', 'Hal_McCoy', 'Robin_Johansen', 'Elaine_Stritch', 'Henrique_Meirelles', 'David_Coulthard', 'Bono', 'Mike_Krzyzewski', 'Henri_Proglio', 'Larry_Tanenbaum', 'Ben_Lee', 'Paul_Pierce', 'Alexander_Losyukov', 'Warren_Truss', 'Pascal_Lamy', 'Prince_Philippe', 'Wayne_Gretzky', 'Kim_Ryong-sung', 'Craig_Morgan', 'Steve_Case', 'Martha_Sahagun_de_Fox', 'Francois_Ozon', 'Mikhail_Khodorkovsky', 'Martin_McGuinness', 'Peter_Sejna', 'Stan_Kroenke', 'Madonna', 'Michael_Hagee', 'Rob_Lowe', 'Roberto_Carlos', 'Carolyn_Kuhl', 'Steve_Fehr', 'Max_von_Sydow', 'Gary_Condit', 'Christine_Gregoire', 'Chris_Cornell', 'Tatjana_Gsell', 'Bill_Bradley', 'Warren_Beatty', 'Steve_Mariucci', 'Leo_Mullin', 'Qazi_Hussain_Ahmed', 'Keanu_Reeves', 'Marco_Antonio_Barrera', 'Leslie_Moonves', 'Jiri_Novak', 'Liam_Neeson', 'Goh_Kun', 'Sally_Ride', 'Edward_Egan', 'Franco_Frattini', 'Sigourney_Weaver', 'Mariano_Zabaleta', 'Lewis_Booth', 'Alan_Greenspan', 'Takashi_Sorimachi', 'Dustin_Brown', 'Bill_Maher', 'Richard_Gephardt', 'Eric_Clapton', 'Miguel_Cotto', 'Elizabeth_Taylor', 'Dave_Matthews', 'Carlo_Ancelotti', 'Chen_Liang_Yu', 'Sergio_Garcia', 'Madeleine_Albright', 'Lionel_Hampton', 'Ivana_Trump', 'Roger_Federer', 'Chok_Tong_Goh', 'Imran_Khan', 'Megan_Mullally', 'Craig_Burley', 'Laurie_Laychak', 'Andy_Graves', 'Elin_Nordegren', 'Tora_Takagi', 'Robert_Towne', 'Hal_Gehman', 'John_Engler', 'Al_Davis', 'Elena_Bovina', 'Jeffrey_Donaldson', 'Kalpana_Chawla', 'Jerry_Springer', 'Bode_Miller', 'Rob_Marshall', 'Joerg_Haider', 'Andre_Techine', 'Eric_Staal', 'Robin_Williams', 'Hilary_Duff', 'Laura_Elena_Harring', 'Kathleen_Kennedy_Townsend', 'Tom_Vilsack', 'Carla_Sullivan', 'Ismael_Miranda', 'Amy_Yasbeck', 'Michelle_Branch', 'Eve_Pelletier', 'Wen_Jiabao', 'Takeo_Hiranuma', 'GL_Peiris', 'Norman_Jewison', 'Mireya_Elisa_Moscoso_Rodriguez', 'Dominique_de_Villepin', 'Ben_Broussard', 'Mike_Tyson', 'Candie_Kung', 'Wayne_Allard', 'Daniell_Sunjata', 'Phil_Jackson', 'Aung_San_Suu_Kyi', 'Dyab_Abou_Jahjah', 'Hunter_Kemper', 'Jack_LaLanne', 'Jose_Luis_Santiago_Vasconcelos', 'Tommy_Haas', 'Peter_Arnett', 'Rob_Schneider', 'Mariah_Carey', 'Lucio_Angulo', 'Thomas_Bjorn', 'Ralph_Nader', 'Kim_Hong-gul', 'Alfredo_di_Stefano', 'Henry_Suazo', 'Jose_Sarney', 'Picabo_Street', 'Turner_Stevenson', 'Alain_Ducasse', 'Edward_James_Olmos', 'Peter_Hillary', 'Steven_Tyler', 'Eduard_Shevardnadze', 'Terri_Clark', 'Harry_Kalas', 'Hillary_Clinton', 'Kara_Lynn_Joyce', 'Junichiro_Koizumi', 'Kurt_Suzuki', 'Jean-Pierre_Raffarin', 'Ralf_Schumacher', 'Hipolito_Mejia', 'Sachin_Tendulkar', 'Catherine_Woodard', 'Alexa_Vega', 'Scott_Rudin', 'David_McKiernan', 'Mikhail_Kalashnikov', 'Martin_Scorsese', 'Jessica_Lynch', 'Dick_Posthumus', 'Gary_Forsee', 'Zalmay_Khalilzad', 'Arianna_Huffington', 'Kathleen_Glynn', 'Carson_Palmer', 'Alina_Kabaeva', 'Anwar_Ibrahim', 'Charla_Moye', 'Steve_Alford', 'Isaiah_Washington', 'Maura_Tierney', 'Christine_Todd_Whitman', 'Hun_Sen', 'Juliette_Binoche', 'Hank_Aaron', 'John_Burkett', 'Javier_Solana', 'John_Warner', 'Eddie_Murray', 'Gaston_Gaudio', 'Darrell_Porter', 'Ian_Smith', 'Elisabeth_Schumacher', 'Amy_Brenneman', 'Anderson_Varejao', 'Jay_Garner', 'Bruce_Paltrow', 'Barry_Switzer', 'Toni_Jennings', 'Khalid_Qazi', 'Padraig_Harrington', 'Isabelle_Huppert', 'Pascal_Quignard', 'Leland_Chapman', 'Colin_Jackson', 'Ciro_Gomes', 'Paradorn_Srichaphan', 'Jerry_Hall', 'Nicolas_Cage', 'Nestor_Kirchner', 'Dennis_Franchione', 'Melvin_Talbert', 'Seymour_Cassell', 'Josh_Kronfeld', 'Lyudmila_Putin', 'Valdas_Adamkus', 'Liliana_Cavani', 'Adrian_Murrell', 'Jim_Fassel', 'Brian_Griese', 'Michael_Chiklis', 'Gregory_Hines', 'Tyler_Hamilton', 'Sandra_Day_OConner', 'Barbara_Becker', 'Carlos_Beltran', 'Jason_Statham', 'Jack_Valenti', 'Heather_Willson', 'Teri_Files', 'Mark_Richt', 'Osama_Al_Baz', 'Ally_Sheedy', 'Carlos_Manuel_Pruneda', 'Gordon_Lightfoot', 'Phil_Mickelson', 'Barry_Zito', 'Flavia_Pennetta', 'Gro_Harlem_Brundtland', 'Derek_Lowe', 'Steve_Zahn', 'Russell_Simmons', 'Jennifer_Gratz', 'Li_Changchun', 'Alexander_Rumyantsev', 'Calvin_Harrison', 'Norio_Ohga', 'Yuvraj_Singh', 'Lesley_Coppin', 'Jo_Dee_Messina', 'Michael_Andretti', 'Rosalyn_Carter', 'Bertie_Ahern', 'Jimmy_Smits', 'Milton_Wynants', 'Penelope_Cruz', 'Bill_Curry', 'Alicia_Silverstone', 'Matt_LeBlanc', 'Ryan_Nyquist', 'Bryan_Murray', 'James_Baker', 'Rudolph_Giuliani', 'Michael_Leavitt', 'Shaul_Mofaz', 'Steve_Nesbitt', 'Rafael_Ramirez', 'Juan_Manuel_Marquez', 'Michelle_Pfeiffer', 'Marcus_Allen', 'William_Joppy', 'Ana_Claudia_Talancon', 'Gunilla_Backman', 'Kenneth_Cooper', 'Ramon_Delgado', 'Jake_Plummer', 'Oliver_Neuville', 'Alan_Zemaitis', 'Ray_Lewis', 'Stefano_Gabbana', 'Uzi_Even', 'Kwame_Kilpatrick', 'Ben_Wallace', 'Nancy_Pelosi', 'Nino_DAngelo', 'Bill_McBride', 'Fernando_Leon_de_Aranoa', 'Mike_Montgomery', 'Nursultan_Nazarbayev', 'Will_Ferrell', 'Gerard_Depardieu', 'Larry_Coker', 'Justine_Pasek', 'James_Cameron', 'Frances_Fisher', 'Steven_Seagal', 'Stellan_Skarsgard', 'Dita_Von_Tesse', 'Brian_Jordan', 'Charlie_Deane', 'Wolfgang_Clement', 'Alex_Cabrera', 'Debbie_Allen', 'Marie-Reine_Le_Gougne', 'Lauren_Killian', 'Michelangelo_Antonioni', 'Dwain_Kyles', 'Chris_Kolanas', 'Timothy_McVeigh', 'Gordon_Brown', 'Guillaume_Depardieu', 'Javier_Weber', 'Charlie_Zaa', 'Paul_Celluci', 'Itzhak_Perlman', 'Doug_Moe', 'Orlando_Bloom', 'Amy_Redford', 'Matthew_McConaughey', 'Jean_Charest', 'Begum_Khaleda_Zia', 'Hisao_Oguchi', 'Michael_Caine', 'Queen_Silvia', 'Bill_Parcells', 'Neil_Moritz', 'Dale_Earnhardt_Jr', 'Agnelo_Queiroz', 'James_Caan', 'Gene_Keady', 'Mauricio_Macri', 'Warren_Buffett', 'Collis_Temple_III', 'Robert_Duvall', 'Loretta_Lynn_Harper', 'Muhammad_Saeed_al-Sahhaf', 'Martin_Luther_King_III', 'Kirsten_Dunst', 'Dick_Vermeil', 'Johannes_Rau', 'Zarai_Toledo', 'Eric_Benet', 'Shinzo_Abe', 'Ben_Stein', 'Alvaro_Uribe', 'Jim_Wong', 'Ernie_Harwell', 'Winona_Ryder', 'Ronald_Harwood', 'John_Stockton', 'Rod_Stewart', 'Steve_Lavin', 'Mitt_Romney', 'Queen_Sofia', 'Jane_Fonda', 'Michael_Jordan', 'Marcelo_Salas', 'Roger_Staubach', 'Glenn_Plummer', 'Pauley_Perrette', 'Curtis_Joseph', 'Luciano_Pavarotti', 'Mamdouh_Habib', 'BJ_Habibie', 'Yasushi_Akashi', 'Lennox_Lewis', 'Jayson_Williams', 'William_Perry', 'Billy_Donovan', 'John_Allen_Muhammad', 'Silvan_Shalom', 'Mike_Price', 'Andre_Agassi', 'Nancy_Powell', 'Hamid_Karzai', 'Inocencio_Arias', 'Sargis_Sargsian', 'Kyoko_Nakayama', 'Tara_Kirk', 'Lily_Tomlin', 'Christopher_Reeve', 'David_Beckham', 'Marilyn_Monroe', 'Yann_Martel', 'Marsha_Sharp', 'Stanley_Nelson', 'Eric_Fehr', 'Freda_Black', 'Filippo_Inzaghi', 'Roy_Halladay', 'Teresa_Heinz_Kerry', 'Gorden_Tallis', 'Adrian_Annus', 'Bill_Belichick', 'Roy_Chaderton', 'Jacqueline_Gold', 'Guenter_Verheugen', 'Art_Howe', 'Nabil_Shaath', 'Daniel_Radcliffe', 'Tippi_Hedren', 'Dawn_Staley', 'Jerry_Lewis', 'Paddy_Torsney', 'Kimi_Raikkonen', 'Gary_Bergeron', 'Karin_Pilsaeter', 'Melina_Kanakaredes', 'Brian_Cook', 'Faye_Dunaway', 'Takeshi_Kitano', 'Holly_Hunter', 'Jennifer_Pena', 'Stanley_Tong', 'Laura_Ziskin', 'Edward_Said', 'Jude_Law', 'Barbara_Walters', 'Fernando_Vargas', 'Don_Hewitt', 'Daniel_Ortega', 'Matthew_Ouimet', 'Melana_Scantlin', 'Jackie_Chan', 'Michael_Arif', 'Mike_Martz', 'Troy_Garity', 'Tirunesh_Dibaba', 'Robbie_Fowler', 'Hermogenes_Ebdane_Jr', 'Matthew_Perry', 'Andrew_Firestone', 'Jackie_Sherrill', 'Ty_Votaw', 'Abraham_Foxman', 'Giulio_Andreotti', 'Babe_Ruth', 'Mario_Dumont', 'Juergen_Schrempp', 'Carlo_Azeglio_Ciampi', 'Frank_Beamer', 'Wayne_Ferreira', 'Eminem', 'Darla_Moore', 'Anton_Balasingham', 'Martha_Stewart', 'Brad_Wilk', 'Ahmed_Chalabi', 'Denzel_Washington', 'Sean_Astin', 'Tony_Shalhoub', 'Mel_Brooks', 'Jan_Pronk', 'Guillermo_Coria', 'Joan_Claybrook', 'Ira_Einhorn', 'Imre_Kertasz', 'Karen_Mok', 'Richard_Sambrook', 'Scott_Yates', 'Larry_Campbell', 'Kristin_Chenoweth', 'Chen_Shui-bian', 'Camilla_Parker_Bowles', 'Rick_Wagoner', 'Ross_Verba', 'Steve_Backley', 'Akbar_Hashemi_Rafsanjani', 'Amanda_Coetzer', 'Dai_Chul_Chyung', 'Aishwarya_Rai', 'Caio_Blat', 'Tom_Tunney', 'Charlene_Barshefsky', 'Franz_Beckenbauer', 'Paul_Brandt', 'Frank_Murkowski', 'Kevin_Hearn', 'Roseanne_Barr', 'Ivan_Shvedoff', 'Jan_De_Bont', 'Jerry_Colangelo', 'Richard_Branson', 'James_Watt', 'John_Timoney', 'Demetrius_Ferraciu', 'Jean_Todt', 'Steffi_Graf', 'Sheila_Wellstone', 'Paul_Greengrass', 'Khalid_Khannouchi', 'Ruth_Dreifuss', 'Sabah_Al-Ahmad_Al-Jaber_Al-Sabah', 'Robert_Mueller', 'Bill_Byrne', 'Vladimiro_Montesinos', 'Jacques_Villeneuve', 'Svend_Aage_Jensby', 'Ricky_Ponting', 'Jiang_Zemin', 'Jose_Miguel_Aleman', 'Jason_Gardner', 'Nancy_Kerrigan', 'Chris_Tucker', 'Tom_Ridge', 'Tom_Brady', 'Darren_Campel', 'Justine_Henin', 'Kent_McCord', 'Jason_Vale', 'Sally_Field', 'Mikhail_Kasyanov', 'Claire_Danes', 'Rudy_Tomjanovich', 'Kevin_Borseth', 'Clay_Aiken', 'Franz_Muentefering', 'Nicholoas_DiMarzio', 'Johnny_Benson', 'Hugh_Grant', 'Bud_Selig', 'David_Heymann', 'Otto_Reich', 'Sharon_Frey', 'Tina_Fey', 'Steven_Hatfill', 'Marion_Barry', 'Razali_Ismail', 'Howard_Stern', 'Elvis_Presley', 'Andres_Manuel_Lopez_Obrador', 'Ken_Watanabe', 'Jim_Flaherty', 'Keith_Osik', 'Mark_Redman', 'Ricky_Barnes', 'Ion_Tiriac', 'Monica_Serra', 'Dragan_Covic', 'Roger_Moore', 'Larry_Lucchino', 'Vicente_Fox', 'Rachel_Griffiths', 'Kathy_Winters', 'Bill_Lerach', 'Alimzhan_Tokhtakhounov', 'Marat_Safin']\n"
          ]
        }
      ]
    },
    {
      "cell_type": "code",
      "source": [
        "folders = sorted(os.listdir(post_processed_dir))\n",
        "\n",
        "original_img_dataset = pd.DataFrame(columns=['img', 'id'])\n",
        "\n",
        "for idx, folder in enumerate(folders):\n",
        "    folder_path = os.path.join(post_processed_dir, folder)\n",
        "    if os.path.isdir(folder_path):\n",
        "        for filename in os.listdir(folder_path):\n",
        "            if filename.endswith('.jpg'):\n",
        "                img_path = os.path.join(folder_path, filename)\n",
        "                img_original = cv2.imread(img_path)\n",
        "                img_original = cv2.cvtColor(img_original, cv2.COLOR_BGR2RGB)\n",
        "                try:\n",
        "                    # Dataset de imagens originais (RGB)\n",
        "                    original_img_dataset = pd.concat([original_img_dataset, pd.DataFrame({'img': [img_original], 'id': [idx]})], ignore_index=True)\n",
        "                except Exception as e:\n",
        "                    print(f\"Erro ao carregar {img_path}: {e}\")\n",
        "\n",
        "print('Número total de imagens carregadas:', len(original_img_dataset))"
      ],
      "metadata": {
        "id": "9LmK4Q91zeo1",
        "outputId": "53b0ebd0-2036-4247-e776-60428d064f49",
        "colab": {
          "base_uri": "https://localhost:8080/"
        }
      },
      "execution_count": 6,
      "outputs": [
        {
          "output_type": "stream",
          "name": "stdout",
          "text": [
            "Número total de imagens carregadas: 12000\n"
          ]
        }
      ]
    },
    {
      "cell_type": "code",
      "source": [
        "# def preprocess_image(input_img):\n",
        "#     # Verificar se a entrada é um caminho ou uma imagem\n",
        "#     img = input_img.copy()\n",
        "\n",
        "#     detector = MTCNN(device=\"GPU:0\")\n",
        "#     faces = detector.detect_faces(img)\n",
        "#     if len(faces) > 0:\n",
        "#         # Extrair a região do rosto com margens extras\n",
        "#         x, y, width, height = faces[0]['box']\n",
        "#         # Expandir um pouco a caixa para incluir toda a testa\n",
        "#         y_expanded = max(0, y - int(height * 0.2))\n",
        "#         height_expanded = int(height * 1.2)\n",
        "#         face_img = img[y_expanded:y_expanded+height_expanded, x:x+width]\n",
        "#     else:\n",
        "#         # Fallback quando nenhum rosto é detectado - remover a imagem\n",
        "#         face_img = None\n",
        "\n",
        "#     return face_img"
      ],
      "metadata": {
        "id": "4PNAd0Z7zgUi"
      },
      "execution_count": 7,
      "outputs": []
    },
    {
      "cell_type": "code",
      "source": [
        "def preprocess_image(input_img):\n",
        "    # Verificar se a entrada é um caminho ou uma imagem\n",
        "    img = input_img.copy()\n",
        "\n",
        "    detector = MTCNN(device=\"GPU:0\")  # You can change this to \"CPU\" if needed\n",
        "    faces = detector.detect_faces(img)\n",
        "\n",
        "    if len(faces) > 0:\n",
        "        # Extrair a região do rosto com margens extras\n",
        "        x, y, width, height = faces[0]['box']\n",
        "        # Expandir um pouco a caixa para incluir toda a testa\n",
        "        y_expanded = max(0, y - int(height * 0.2))\n",
        "        height_expanded = int(height * 1.2)\n",
        "        face_img = img[y_expanded:y_expanded+height_expanded, x:x+width]\n",
        "    else:\n",
        "        # Fallback quando nenhum rosto é detectado - usar a imagem original\n",
        "        # ou aplicar outro processamento alternativo\n",
        "        face_img = None\n",
        "\n",
        "    return face_img\n"
      ],
      "metadata": {
        "id": "1tVvVDRr8ZOw"
      },
      "execution_count": 10,
      "outputs": []
    },
    {
      "cell_type": "markdown",
      "metadata": {
        "id": "UpCKqQ5Ky5s8"
      },
      "source": [
        "Preparar dados de treinamento"
      ]
    },
    {
      "cell_type": "code",
      "execution_count": null,
      "metadata": {
        "id": "ohRkmaJHy5s8",
        "outputId": "25e775e1-bf65-4117-ba53-17ecda6cfcf5",
        "colab": {
          "base_uri": "https://localhost:8080/"
        }
      },
      "outputs": [
        {
          "output_type": "stream",
          "name": "stderr",
          "text": [
            "Processando imagens:   8%|▊         | 933/12000 [04:03<47:18,  3.90it/s]"
          ]
        }
      ],
      "source": [
        "img_dataset = pd.DataFrame(columns=['img', 'id'])\n",
        "\n",
        "# Usar tqdm para mostrar a barra de progresso\n",
        "for idx, row in tqdm(original_img_dataset.iterrows(), total=len(original_img_dataset), desc=\"Processando imagens\"):\n",
        "    try:\n",
        "        # Processar a imagem usando preprocess_image\n",
        "        processed_img = preprocess_image(row['img'])\n",
        "\n",
        "        # Adicionar ao dataset de imagens processadas\n",
        "        img_dataset = pd.concat([img_dataset, pd.DataFrame({'img': [processed_img], 'id': [row['id']]})], ignore_index=True)\n",
        "    except Exception as e:\n",
        "        print(f\"Erro ao processar imagem com ID {row['id']}: {e}\")\n",
        "\n",
        "print('Número total de imagens processadas:', len(img_dataset))"
      ]
    },
    {
      "cell_type": "code",
      "execution_count": null,
      "metadata": {
        "id": "g-HYbb38y5s8"
      },
      "outputs": [],
      "source": [
        "# print first 5 images\n",
        "\n",
        "for i in range(5):\n",
        "    plt.figure(figsize=(2, 2))\n",
        "    plt.imshow(original_img_dataset['img'][i])\n",
        "    plt.axis('off')\n",
        "    plt.show()"
      ]
    },
    {
      "cell_type": "code",
      "execution_count": null,
      "metadata": {
        "id": "s8je7e65y5s8"
      },
      "outputs": [],
      "source": [
        "# print first 5 images\n",
        "\n",
        "for i in range(5):\n",
        "    plt.figure(figsize=(2, 2))\n",
        "    plt.imshow(img_dataset['img'][i])\n",
        "    plt.axis('off')\n",
        "    plt.show()"
      ]
    },
    {
      "cell_type": "code",
      "execution_count": null,
      "metadata": {
        "id": "D6Qi4f0dy5s8"
      },
      "outputs": [],
      "source": [
        "X = np.stack(img_dataset['img'].values)\n",
        "y = img_dataset['id'].values"
      ]
    },
    {
      "cell_type": "markdown",
      "metadata": {
        "id": "tdERIY_my5s9"
      },
      "source": [
        "Configurar modelo"
      ]
    },
    {
      "cell_type": "code",
      "source": [
        "base_model = MobileNetV2(weights='imagenet', include_top=False, input_shape=(224, 224, 3))\n",
        "base_model.trainable = False\n",
        "\n",
        "# Construir o modelo sequencial completo\n",
        "model = Sequential([\n",
        "    base_model,\n",
        "    GlobalAveragePooling2D(),\n",
        "    Dense(512, activation='relu'),\n",
        "    Dense(128),\n",
        "    Lambda(lambda x: tf.nn.l2_normalize(x, axis=1))\n",
        "])"
      ],
      "metadata": {
        "id": "GnewVkeuzxEt"
      },
      "execution_count": null,
      "outputs": []
    },
    {
      "cell_type": "markdown",
      "metadata": {
        "id": "8ovZnY43y5s9"
      },
      "source": [
        "### Âncora\n",
        "- É a imagem de referência (ex: uma foto da pessoa A)\n",
        "- Serve como ponto de comparação para as outras duas imagens\n",
        "\n",
        "### Positivo\n",
        "- É outra imagem da **mesma pessoa** da âncora (outra foto da pessoa A)\n",
        "- Pode ter diferenças como ângulo, iluminação, expressão facial, uso de máscara\n",
        "\n",
        "### Negativo\n",
        "- É uma imagem de uma **pessoa diferente** (foto da pessoa B)\n",
        "- Representa o que o modelo deve aprender a distinguir da âncora"
      ]
    },
    {
      "cell_type": "code",
      "execution_count": null,
      "metadata": {
        "id": "Aln38Tw-y5s9"
      },
      "outputs": [],
      "source": [
        "# A classe TripletGenerator é um gerador de dados para o treinamento do modelo\n",
        "class TripletGenerator(tf.keras.utils.Sequence):\n",
        "    def __init__(self, images, labels, batch_size=32, num_triplets=5000, **kwargs):\n",
        "        super().__init__(**kwargs)\n",
        "        self.images = images\n",
        "        self.labels = labels\n",
        "        self.batch_size = batch_size\n",
        "        self.num_triplets = num_triplets\n",
        "\n",
        "        # Encontrar classes com pelo menos 2 amostras\n",
        "        unique_labels, counts = np.unique(labels, return_counts=True)\n",
        "        self.classes = unique_labels[counts >= 2]\n",
        "\n",
        "        if len(self.classes) == 0:\n",
        "            raise ValueError(\"Não há classes com pelo menos 2 amostras. Impossível criar triplets.\")\n",
        "\n",
        "        self.indexes = np.arange(num_triplets)\n",
        "\n",
        "\n",
        "    def __len__(self):\n",
        "        return int(np.ceil(self.num_triplets / self.batch_size))\n",
        "\n",
        "    def __getitem__(self, idx):\n",
        "        batch_indexes = self.indexes[idx * self.batch_size:(idx + 1) * self.batch_size]\n",
        "        batch_triplets = []\n",
        "\n",
        "        for _ in range(len(batch_indexes)):\n",
        "            # Escolher classe âncora aleatoriamente (apenas entre classes com múltiplas amostras)\n",
        "            anchor_class = np.random.choice(self.classes)\n",
        "\n",
        "            # Índices de imagens da mesma classe (positivos)\n",
        "            positive_indices = np.where(self.labels == anchor_class)[0]\n",
        "\n",
        "            # Verificar se ainda temos pelo menos 2 imagens nesta classe\n",
        "            if len(positive_indices) < 2:\n",
        "                continue\n",
        "\n",
        "            # Escolher âncora e positivo aleatoriamente da mesma classe\n",
        "            anchor_idx = np.random.choice(positive_indices)\n",
        "            positive_candidates = positive_indices[positive_indices != anchor_idx]\n",
        "\n",
        "            # Verificação extra para garantir que temos positivos após remover o âncora\n",
        "            if len(positive_candidates) == 0:\n",
        "                continue\n",
        "\n",
        "            positive_idx = np.random.choice(positive_candidates)\n",
        "\n",
        "            # Escolher negativo de outra classe\n",
        "            negative_classes = self.classes[self.classes != anchor_class]\n",
        "            # Verificar se temos outras classes disponíveis\n",
        "            if len(negative_classes) == 0:\n",
        "                continue\n",
        "\n",
        "            negative_class = np.random.choice(negative_classes)\n",
        "            negative_indices = np.where(self.labels == negative_class)[0]\n",
        "            negative_idx = np.random.choice(negative_indices)\n",
        "\n",
        "            batch_triplets.append([\n",
        "                self.images[anchor_idx],\n",
        "                self.images[positive_idx],\n",
        "                self.images[negative_idx]\n",
        "            ])\n",
        "\n",
        "        # Garantir que temos pelo menos um triplet no batch\n",
        "        if not batch_triplets:\n",
        "            # Tenta novamente com outro índice\n",
        "            return self.__getitem__((idx + 1) % len(self))\n",
        "\n",
        "        batch_triplets = np.array(batch_triplets)\n",
        "        triplets_flat = batch_triplets.reshape(-1, 224, 224, 3)\n",
        "        targets = np.zeros(len(batch_triplets) * 3)\n",
        "\n",
        "        return triplets_flat, targets"
      ]
    },
    {
      "cell_type": "code",
      "source": [
        "# A loss function triplet_loss calcula a perda triplet, que é uma função que mede a distância entre âncoras, positivos e negativos\n",
        "# A ideia é minimizar a distância entre âncoras e positivos, enquanto maximiza a distância entre âncoras e negativos\n",
        "def triplet_loss(y_true, y_pred, alpha=0.2):\n",
        "\ttotal = tf.shape(y_pred)[0]\n",
        "\tthird = total // 3\n",
        "\n",
        "\tanchor = y_pred[0:third]\n",
        "\tpositive = y_pred[third:2*third]\n",
        "\tnegative = y_pred[2*third:total]\n",
        "\n",
        "\t# Calcular distâncias entre âncora, positivo e negativo\n",
        "\tpos_dist = tf.reduce_sum(tf.square(anchor - positive), axis=1)\n",
        "\tneg_dist = tf.reduce_sum(tf.square(anchor - negative), axis=1)\n",
        "\n",
        "\t# Triplet Loss\n",
        "\tbasic_loss = pos_dist - neg_dist + alpha\n",
        "\tloss = tf.maximum(basic_loss, 0.0)\n",
        "\treturn tf.reduce_mean(loss)"
      ],
      "metadata": {
        "id": "5eq39yLdzzqs"
      },
      "execution_count": null,
      "outputs": []
    },
    {
      "cell_type": "markdown",
      "metadata": {
        "id": "DVmA63Hjy5s9"
      },
      "source": [
        "Compilar e treinar o modelo"
      ]
    },
    {
      "cell_type": "code",
      "execution_count": null,
      "metadata": {
        "id": "nuE5RyhYy5s9"
      },
      "outputs": [],
      "source": [
        "# Compilar o modelo com a função de perda triplet loss\n",
        "model.compile(optimizer='adam', loss=triplet_loss)\n",
        "\n",
        "# Cria o gerador de triplets\n",
        "triplet_gen = TripletGenerator(X, y, batch_size=32, num_triplets=5000)\n",
        "\n",
        "# Treina o modelo com o gerador\n",
        "history = model.fit(\n",
        "    triplet_gen,\n",
        "    epochs=10,\n",
        "    steps_per_epoch=len(triplet_gen),\n",
        "    verbose=1\n",
        ")"
      ]
    },
    {
      "cell_type": "markdown",
      "metadata": {
        "id": "k9ic65L3y5s9"
      },
      "source": [
        "Criar banco de dados com vetores descritores"
      ]
    },
    {
      "cell_type": "code",
      "execution_count": null,
      "metadata": {
        "id": "MjV3EH2Ay5s9"
      },
      "outputs": [],
      "source": [
        "# Função para extrair vetores descritores\n",
        "def extract_features(model, images):\n",
        "    features = model.predict(images)\n",
        "    return features"
      ]
    },
    {
      "cell_type": "code",
      "execution_count": null,
      "metadata": {
        "id": "JWmbDhRry5s9"
      },
      "outputs": [],
      "source": [
        "# Extrair características de todas as imagens do dataset\n",
        "celebrity_features = extract_features(model, X)\n",
        "\n",
        "# Criar banco de dados de características\n",
        "feature_database = {\n",
        "    'features': celebrity_features,\n",
        "    'labels': y\n",
        "}\n",
        "\n",
        "# # Podemos também salvar para uso futuro\n",
        "# np.save('feature_database.npy', feature_database)"
      ]
    },
    {
      "cell_type": "markdown",
      "metadata": {
        "id": "AiQ6X_bSy5s9"
      },
      "source": [
        "Adicionar nova pessoa ao banco"
      ]
    },
    {
      "cell_type": "code",
      "execution_count": null,
      "metadata": {
        "id": "ZiJMuBshy5s9"
      },
      "outputs": [],
      "source": [
        "# Carregar a imagem da nova pessoa\n",
        "new_person_path = '/content/marcelinho_no_db.jpg'\n",
        "\n",
        "url = \"https://drive.google.com/uc?id=1EgvzTNEWTXvegURlmJAt8OXOtrKAlQEb\"\n",
        "gdown.download(url, new_person_path, quiet=False)\n",
        "\n",
        "# Carregar a imagem\n",
        "img_original = cv2.imread(new_person_path)\n",
        "img_original = cv2.cvtColor(img_original, cv2.COLOR_BGR2RGB)\n",
        "\n",
        "# Processar a imagem usando preprocess_image com a imagem já carregada\n",
        "new_person_img = preprocess_image(img_original)\n",
        "new_person_img_array = np.expand_dims(new_person_img, axis=0)\n",
        "\n",
        "# Extrair características\n",
        "new_person_features = extract_features(model, new_person_img_array)\n",
        "\n",
        "# Atribuir um novo ID para esta pessoa (após o último ID existente)\n",
        "new_person_id = np.max(y) + 1\n",
        "\n",
        "# Adicionar ao banco de dados\n",
        "original_img_dataset = pd.concat([original_img_dataset, pd.DataFrame({'img': [img_original], 'id': [new_person_id]})], ignore_index=True)\n",
        "feature_database['features'] = np.vstack([feature_database['features'], new_person_features])\n",
        "feature_database['labels'] = np.append(feature_database['labels'], new_person_id)\n",
        "\n",
        "print(f\"Nova pessoa adicionada ao banco de dados com ID {new_person_id}\")\n"
      ]
    },
    {
      "cell_type": "markdown",
      "metadata": {
        "id": "FpwPWjsry5s9"
      },
      "source": [
        "Teste final"
      ]
    },
    {
      "cell_type": "code",
      "execution_count": null,
      "metadata": {
        "id": "BdPeG0y6y5s9"
      },
      "outputs": [],
      "source": [
        "test_image_path = \"face-test\\marcelinho_na_inferencia.jpg\"\n",
        "\n",
        "# Adicionar ao banco de dados com imagens originais\n",
        "img_original = cv2.imread(test_image_path)\n",
        "img_original = cv2.cvtColor(img_original, cv2.COLOR_BGR2RGB)\n",
        "original_img_dataset = pd.concat([original_img_dataset, pd.DataFrame({'img': [img_original], 'id': [new_person_id]})], ignore_index=True)\n",
        "\n",
        "plt.figure(figsize=(6, 6))\n",
        "plt.imshow(img_original)\n",
        "plt.title(\"Imagem original de pessoa a ser buscada\")\n",
        "plt.axis('off')\n",
        "plt.show()\n",
        "\n",
        "# Imagem não é adicionada ao banco de dados, apenas pré-processada e utilizada na inferência\n",
        "test_image = preprocess_image(test_image_path)\n",
        "test_image_array = np.expand_dims(test_image, axis=0)\n",
        "\n",
        "# Exibir a imagem a ser buscada\n",
        "plt.figure(figsize=(6, 6))\n",
        "plt.imshow(test_image)\n",
        "plt.title(\"Imagem processada de pessoa a ser buscada\")\n",
        "plt.axis('off')\n",
        "plt.show()"
      ]
    },
    {
      "cell_type": "code",
      "execution_count": null,
      "metadata": {
        "id": "WMqRjX-Ay5s-"
      },
      "outputs": [],
      "source": [
        "test_image_path = \"/content/marcelinho_na_inferencia.jpg\"\n",
        "url = \"https://drive.google.com/uc?id=1RcLasSJj-XMke5Fj33adiaHWbbl-9ihW\"\n",
        "gdown.download(url, test_image_path, quiet=False)\n",
        "\n",
        "# Carregar a imagem\n",
        "img_original = cv2.imread(test_image_path)\n",
        "img_original = cv2.cvtColor(img_original, cv2.COLOR_BGR2RGB)\n",
        "\n",
        "# Adicionar ao banco de dados com imagens originais\n",
        "original_img_dataset = pd.concat([original_img_dataset, pd.DataFrame({'img': [img_original], 'id': [new_person_id]})], ignore_index=True)\n",
        "\n",
        "plt.figure(figsize=(6, 6))\n",
        "plt.imshow(img_original)\n",
        "plt.title(\"Imagem original de pessoa a ser buscada\")\n",
        "plt.axis('off')\n",
        "plt.show()\n",
        "\n",
        "# Usar a imagem já carregada para o pré-processamento, em vez do caminho do arquivo\n",
        "test_image = preprocess_image(img_original)\n",
        "test_image_array = np.expand_dims(test_image, axis=0)\n",
        "\n",
        "# Exibir a imagem a ser buscada\n",
        "plt.figure(figsize=(6, 6))\n",
        "plt.imshow(test_image)\n",
        "plt.title(\"Imagem processada de pessoa a ser buscada\")\n",
        "plt.axis('off')\n",
        "plt.show()\n"
      ]
    }
  ],
  "metadata": {
    "kernelspec": {
      "display_name": "Python 3",
      "name": "python3"
    },
    "language_info": {
      "codemirror_mode": {
        "name": "ipython",
        "version": 3
      },
      "file_extension": ".py",
      "mimetype": "text/x-python",
      "name": "python",
      "nbconvert_exporter": "python",
      "pygments_lexer": "ipython3",
      "version": "3.10.8"
    },
    "colab": {
      "provenance": [],
      "gpuType": "L4"
    },
    "accelerator": "GPU"
  },
  "nbformat": 4,
  "nbformat_minor": 0
}